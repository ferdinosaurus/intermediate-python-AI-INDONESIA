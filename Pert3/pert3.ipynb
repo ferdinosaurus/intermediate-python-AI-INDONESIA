{
 "metadata": {
  "language_info": {
   "codemirror_mode": {
    "name": "ipython",
    "version": 3
   },
   "file_extension": ".py",
   "mimetype": "text/x-python",
   "name": "python",
   "nbconvert_exporter": "python",
   "pygments_lexer": "ipython3",
   "version": "3.9.1-final"
  },
  "orig_nbformat": 2,
  "kernelspec": {
   "name": "python3",
   "display_name": "Python 3",
   "language": "python"
  }
 },
 "nbformat": 4,
 "nbformat_minor": 2,
 "cells": [
  {
   "cell_type": "code",
   "execution_count": 4,
   "metadata": {},
   "outputs": [],
   "source": [
    "import numpy as np\n",
    "import pandas as pd"
   ]
  },
  {
   "cell_type": "code",
   "execution_count": 10,
   "metadata": {},
   "outputs": [
    {
     "output_type": "stream",
     "name": "stdout",
     "text": [
      "numpy version=1.19.5\npandas version=1.2.2\n"
     ]
    }
   ],
   "source": [
    "print(\"numpy version\",np.__version__,sep=\"=\")\n",
    "print(\"pandas version\",pd.__version__,sep=\"=\")\n"
   ]
  },
  {
   "cell_type": "code",
   "execution_count": 11,
   "metadata": {},
   "outputs": [
    {
     "output_type": "execute_result",
     "data": {
      "text/plain": [
       "0    1\n",
       "1    2\n",
       "2    3\n",
       "3    4\n",
       "dtype: int64"
      ]
     },
     "metadata": {},
     "execution_count": 11
    }
   ],
   "source": [
    "pd.Series(data = [1,2,3,4])"
   ]
  },
  {
   "cell_type": "code",
   "execution_count": 14,
   "metadata": {},
   "outputs": [
    {
     "output_type": "execute_result",
     "data": {
      "text/plain": [
       "    Nama  Umur\n",
       "0  Selly    12\n",
       "1   Emir    13"
      ],
      "text/html": "<div>\n<style scoped>\n    .dataframe tbody tr th:only-of-type {\n        vertical-align: middle;\n    }\n\n    .dataframe tbody tr th {\n        vertical-align: top;\n    }\n\n    .dataframe thead th {\n        text-align: right;\n    }\n</style>\n<table border=\"1\" class=\"dataframe\">\n  <thead>\n    <tr style=\"text-align: right;\">\n      <th></th>\n      <th>Nama</th>\n      <th>Umur</th>\n    </tr>\n  </thead>\n  <tbody>\n    <tr>\n      <th>0</th>\n      <td>Selly</td>\n      <td>12</td>\n    </tr>\n    <tr>\n      <th>1</th>\n      <td>Emir</td>\n      <td>13</td>\n    </tr>\n  </tbody>\n</table>\n</div>"
     },
     "metadata": {},
     "execution_count": 14
    }
   ],
   "source": [
    "pd.DataFrame(data= {\"Nama\" : [\"Selly\", \"Emir\"], \"Umur\": [12, 13]})"
   ]
  },
  {
   "cell_type": "code",
   "execution_count": 16,
   "metadata": {},
   "outputs": [],
   "source": [
    "df = {'col_1': [3, 2, 1, 0], 'col_2': ['a', 'b', 'c', 'd']}"
   ]
  },
  {
   "cell_type": "code",
   "execution_count": 21,
   "metadata": {},
   "outputs": [
    {
     "output_type": "execute_result",
     "data": {
      "text/plain": [
       "       A  B  C  D\n",
       "col_1  3  2  1  0\n",
       "col_2  a  b  c  d"
      ],
      "text/html": "<div>\n<style scoped>\n    .dataframe tbody tr th:only-of-type {\n        vertical-align: middle;\n    }\n\n    .dataframe tbody tr th {\n        vertical-align: top;\n    }\n\n    .dataframe thead th {\n        text-align: right;\n    }\n</style>\n<table border=\"1\" class=\"dataframe\">\n  <thead>\n    <tr style=\"text-align: right;\">\n      <th></th>\n      <th>A</th>\n      <th>B</th>\n      <th>C</th>\n      <th>D</th>\n    </tr>\n  </thead>\n  <tbody>\n    <tr>\n      <th>col_1</th>\n      <td>3</td>\n      <td>2</td>\n      <td>1</td>\n      <td>0</td>\n    </tr>\n    <tr>\n      <th>col_2</th>\n      <td>a</td>\n      <td>b</td>\n      <td>c</td>\n      <td>d</td>\n    </tr>\n  </tbody>\n</table>\n</div>"
     },
     "metadata": {},
     "execution_count": 21
    }
   ],
   "source": [
    "df3 = pd.DataFrame.from_dict(df, orient='index',\n",
    "                       columns=['A', 'B', 'C', 'D'])\n",
    "df3"
   ]
  },
  {
   "cell_type": "code",
   "execution_count": 20,
   "metadata": {},
   "outputs": [
    {
     "output_type": "execute_result",
     "data": {
      "text/plain": [
       "      zero  B  C  D\n",
       "col_1    3  2  1  0\n",
       "col_2    a  b  c  d"
      ],
      "text/html": "<div>\n<style scoped>\n    .dataframe tbody tr th:only-of-type {\n        vertical-align: middle;\n    }\n\n    .dataframe tbody tr th {\n        vertical-align: top;\n    }\n\n    .dataframe thead th {\n        text-align: right;\n    }\n</style>\n<table border=\"1\" class=\"dataframe\">\n  <thead>\n    <tr style=\"text-align: right;\">\n      <th></th>\n      <th>zero</th>\n      <th>B</th>\n      <th>C</th>\n      <th>D</th>\n    </tr>\n  </thead>\n  <tbody>\n    <tr>\n      <th>col_1</th>\n      <td>3</td>\n      <td>2</td>\n      <td>1</td>\n      <td>0</td>\n    </tr>\n    <tr>\n      <th>col_2</th>\n      <td>a</td>\n      <td>b</td>\n      <td>c</td>\n      <td>d</td>\n    </tr>\n  </tbody>\n</table>\n</div>"
     },
     "metadata": {},
     "execution_count": 20
    }
   ],
   "source": [
    "df3.columns.values[0] = \"zero\"\n",
    "df3"
   ]
  },
  {
   "cell_type": "code",
   "execution_count": 40,
   "metadata": {},
   "outputs": [
    {
     "output_type": "execute_result",
     "data": {
      "text/plain": [
       "  Age Location   Name\n",
       "0  24     loc1  name1"
      ],
      "text/html": "<div>\n<style scoped>\n    .dataframe tbody tr th:only-of-type {\n        vertical-align: middle;\n    }\n\n    .dataframe tbody tr th {\n        vertical-align: top;\n    }\n\n    .dataframe thead th {\n        text-align: right;\n    }\n</style>\n<table border=\"1\" class=\"dataframe\">\n  <thead>\n    <tr style=\"text-align: right;\">\n      <th></th>\n      <th>Age</th>\n      <th>Location</th>\n      <th>Name</th>\n    </tr>\n  </thead>\n  <tbody>\n    <tr>\n      <th>0</th>\n      <td>24</td>\n      <td>loc1</td>\n      <td>name1</td>\n    </tr>\n  </tbody>\n</table>\n</div>"
     },
     "metadata": {},
     "execution_count": 40
    }
   ],
   "source": [
    "soal1 =pd.DataFrame(data = {\"Age\":[\"24\"],\"Location\":[\"loc1\"],\"Name\" :[\"name1\"]})\n",
    "soal1"
   ]
  },
  {
   "cell_type": "code",
   "execution_count": 36,
   "metadata": {},
   "outputs": [
    {
     "output_type": "execute_result",
     "data": {
      "text/plain": [
       "  Age  City   Name\n",
       "0  24  loc1  name1"
      ],
      "text/html": "<div>\n<style scoped>\n    .dataframe tbody tr th:only-of-type {\n        vertical-align: middle;\n    }\n\n    .dataframe tbody tr th {\n        vertical-align: top;\n    }\n\n    .dataframe thead th {\n        text-align: right;\n    }\n</style>\n<table border=\"1\" class=\"dataframe\">\n  <thead>\n    <tr style=\"text-align: right;\">\n      <th></th>\n      <th>Age</th>\n      <th>City</th>\n      <th>Name</th>\n    </tr>\n  </thead>\n  <tbody>\n    <tr>\n      <th>0</th>\n      <td>24</td>\n      <td>loc1</td>\n      <td>name1</td>\n    </tr>\n  </tbody>\n</table>\n</div>"
     },
     "metadata": {},
     "execution_count": 36
    }
   ],
   "source": [
    "soal1.columns.values[1] = \"City\"\n",
    "soal1 "
   ]
  },
  {
   "cell_type": "code",
   "execution_count": 41,
   "metadata": {},
   "outputs": [
    {
     "output_type": "execute_result",
     "data": {
      "text/plain": [
       "  Age  City   Name\n",
       "0  24  loc1  name1"
      ],
      "text/html": "<div>\n<style scoped>\n    .dataframe tbody tr th:only-of-type {\n        vertical-align: middle;\n    }\n\n    .dataframe tbody tr th {\n        vertical-align: top;\n    }\n\n    .dataframe thead th {\n        text-align: right;\n    }\n</style>\n<table border=\"1\" class=\"dataframe\">\n  <thead>\n    <tr style=\"text-align: right;\">\n      <th></th>\n      <th>Age</th>\n      <th>City</th>\n      <th>Name</th>\n    </tr>\n  </thead>\n  <tbody>\n    <tr>\n      <th>0</th>\n      <td>24</td>\n      <td>loc1</td>\n      <td>name1</td>\n    </tr>\n  </tbody>\n</table>\n</div>"
     },
     "metadata": {},
     "execution_count": 41
    }
   ],
   "source": [
    "soal1.columns.values[1] = \"City\"\n",
    "soal1.columns."
   ]
  },
  {
   "cell_type": "code",
   "execution_count": null,
   "metadata": {},
   "outputs": [],
   "source": []
  },
  {
   "cell_type": "code",
   "execution_count": 42,
   "metadata": {},
   "outputs": [
    {
     "output_type": "execute_result",
     "data": {
      "text/plain": [
       "           START_DATE*         END_DATE* CATEGORY*            START*  \\\n",
       "0       1/1/2016 21:11    1/1/2016 21:17  Business       Fort Pierce   \n",
       "1        1/2/2016 1:25     1/2/2016 1:37  Business       Fort Pierce   \n",
       "2       1/2/2016 20:25    1/2/2016 20:38  Business       Fort Pierce   \n",
       "3       1/5/2016 17:31    1/5/2016 17:45  Business       Fort Pierce   \n",
       "4       1/6/2016 14:42    1/6/2016 15:49  Business       Fort Pierce   \n",
       "...                ...               ...       ...               ...   \n",
       "1151  12/31/2016 13:24  12/31/2016 13:42  Business           Kar?chi   \n",
       "1152  12/31/2016 15:03  12/31/2016 15:38  Business  Unknown Location   \n",
       "1153  12/31/2016 21:32  12/31/2016 21:50  Business        Katunayake   \n",
       "1154  12/31/2016 22:08  12/31/2016 23:51  Business           Gampaha   \n",
       "1155            Totals               NaN       NaN               NaN   \n",
       "\n",
       "                 STOP*   MILES*         PURPOSE*  \n",
       "0          Fort Pierce      5.1   Meal/Entertain  \n",
       "1          Fort Pierce      5.0              NaN  \n",
       "2          Fort Pierce      4.8  Errand/Supplies  \n",
       "3          Fort Pierce      4.7          Meeting  \n",
       "4      West Palm Beach     63.7   Customer Visit  \n",
       "...                ...      ...              ...  \n",
       "1151  Unknown Location      3.9   Temporary Site  \n",
       "1152  Unknown Location     16.2          Meeting  \n",
       "1153           Gampaha      6.4   Temporary Site  \n",
       "1154         Ilukwatta     48.2   Temporary Site  \n",
       "1155               NaN  12204.7              NaN  \n",
       "\n",
       "[1156 rows x 7 columns]"
      ],
      "text/html": "<div>\n<style scoped>\n    .dataframe tbody tr th:only-of-type {\n        vertical-align: middle;\n    }\n\n    .dataframe tbody tr th {\n        vertical-align: top;\n    }\n\n    .dataframe thead th {\n        text-align: right;\n    }\n</style>\n<table border=\"1\" class=\"dataframe\">\n  <thead>\n    <tr style=\"text-align: right;\">\n      <th></th>\n      <th>START_DATE*</th>\n      <th>END_DATE*</th>\n      <th>CATEGORY*</th>\n      <th>START*</th>\n      <th>STOP*</th>\n      <th>MILES*</th>\n      <th>PURPOSE*</th>\n    </tr>\n  </thead>\n  <tbody>\n    <tr>\n      <th>0</th>\n      <td>1/1/2016 21:11</td>\n      <td>1/1/2016 21:17</td>\n      <td>Business</td>\n      <td>Fort Pierce</td>\n      <td>Fort Pierce</td>\n      <td>5.1</td>\n      <td>Meal/Entertain</td>\n    </tr>\n    <tr>\n      <th>1</th>\n      <td>1/2/2016 1:25</td>\n      <td>1/2/2016 1:37</td>\n      <td>Business</td>\n      <td>Fort Pierce</td>\n      <td>Fort Pierce</td>\n      <td>5.0</td>\n      <td>NaN</td>\n    </tr>\n    <tr>\n      <th>2</th>\n      <td>1/2/2016 20:25</td>\n      <td>1/2/2016 20:38</td>\n      <td>Business</td>\n      <td>Fort Pierce</td>\n      <td>Fort Pierce</td>\n      <td>4.8</td>\n      <td>Errand/Supplies</td>\n    </tr>\n    <tr>\n      <th>3</th>\n      <td>1/5/2016 17:31</td>\n      <td>1/5/2016 17:45</td>\n      <td>Business</td>\n      <td>Fort Pierce</td>\n      <td>Fort Pierce</td>\n      <td>4.7</td>\n      <td>Meeting</td>\n    </tr>\n    <tr>\n      <th>4</th>\n      <td>1/6/2016 14:42</td>\n      <td>1/6/2016 15:49</td>\n      <td>Business</td>\n      <td>Fort Pierce</td>\n      <td>West Palm Beach</td>\n      <td>63.7</td>\n      <td>Customer Visit</td>\n    </tr>\n    <tr>\n      <th>...</th>\n      <td>...</td>\n      <td>...</td>\n      <td>...</td>\n      <td>...</td>\n      <td>...</td>\n      <td>...</td>\n      <td>...</td>\n    </tr>\n    <tr>\n      <th>1151</th>\n      <td>12/31/2016 13:24</td>\n      <td>12/31/2016 13:42</td>\n      <td>Business</td>\n      <td>Kar?chi</td>\n      <td>Unknown Location</td>\n      <td>3.9</td>\n      <td>Temporary Site</td>\n    </tr>\n    <tr>\n      <th>1152</th>\n      <td>12/31/2016 15:03</td>\n      <td>12/31/2016 15:38</td>\n      <td>Business</td>\n      <td>Unknown Location</td>\n      <td>Unknown Location</td>\n      <td>16.2</td>\n      <td>Meeting</td>\n    </tr>\n    <tr>\n      <th>1153</th>\n      <td>12/31/2016 21:32</td>\n      <td>12/31/2016 21:50</td>\n      <td>Business</td>\n      <td>Katunayake</td>\n      <td>Gampaha</td>\n      <td>6.4</td>\n      <td>Temporary Site</td>\n    </tr>\n    <tr>\n      <th>1154</th>\n      <td>12/31/2016 22:08</td>\n      <td>12/31/2016 23:51</td>\n      <td>Business</td>\n      <td>Gampaha</td>\n      <td>Ilukwatta</td>\n      <td>48.2</td>\n      <td>Temporary Site</td>\n    </tr>\n    <tr>\n      <th>1155</th>\n      <td>Totals</td>\n      <td>NaN</td>\n      <td>NaN</td>\n      <td>NaN</td>\n      <td>NaN</td>\n      <td>12204.7</td>\n      <td>NaN</td>\n    </tr>\n  </tbody>\n</table>\n<p>1156 rows × 7 columns</p>\n</div>"
     },
     "metadata": {},
     "execution_count": 42
    }
   ],
   "source": [
    "data_uber = pd.read_csv(\"My Uber Drives - 2016.csv\")\n"
   ]
  },
  {
   "cell_type": "code",
   "execution_count": 46,
   "metadata": {},
   "outputs": [
    {
     "output_type": "execute_result",
     "data": {
      "text/plain": [
       "      START_DATE*       END_DATE* CATEGORY*       START*            STOP*  \\\n",
       "0  1/1/2016 21:11  1/1/2016 21:17  Business  Fort Pierce      Fort Pierce   \n",
       "1   1/2/2016 1:25   1/2/2016 1:37  Business  Fort Pierce      Fort Pierce   \n",
       "2  1/2/2016 20:25  1/2/2016 20:38  Business  Fort Pierce      Fort Pierce   \n",
       "3  1/5/2016 17:31  1/5/2016 17:45  Business  Fort Pierce      Fort Pierce   \n",
       "4  1/6/2016 14:42  1/6/2016 15:49  Business  Fort Pierce  West Palm Beach   \n",
       "\n",
       "   MILES*         PURPOSE*  \n",
       "0     5.1   Meal/Entertain  \n",
       "1     5.0              NaN  \n",
       "2     4.8  Errand/Supplies  \n",
       "3     4.7          Meeting  \n",
       "4    63.7   Customer Visit  "
      ],
      "text/html": "<div>\n<style scoped>\n    .dataframe tbody tr th:only-of-type {\n        vertical-align: middle;\n    }\n\n    .dataframe tbody tr th {\n        vertical-align: top;\n    }\n\n    .dataframe thead th {\n        text-align: right;\n    }\n</style>\n<table border=\"1\" class=\"dataframe\">\n  <thead>\n    <tr style=\"text-align: right;\">\n      <th></th>\n      <th>START_DATE*</th>\n      <th>END_DATE*</th>\n      <th>CATEGORY*</th>\n      <th>START*</th>\n      <th>STOP*</th>\n      <th>MILES*</th>\n      <th>PURPOSE*</th>\n    </tr>\n  </thead>\n  <tbody>\n    <tr>\n      <th>0</th>\n      <td>1/1/2016 21:11</td>\n      <td>1/1/2016 21:17</td>\n      <td>Business</td>\n      <td>Fort Pierce</td>\n      <td>Fort Pierce</td>\n      <td>5.1</td>\n      <td>Meal/Entertain</td>\n    </tr>\n    <tr>\n      <th>1</th>\n      <td>1/2/2016 1:25</td>\n      <td>1/2/2016 1:37</td>\n      <td>Business</td>\n      <td>Fort Pierce</td>\n      <td>Fort Pierce</td>\n      <td>5.0</td>\n      <td>NaN</td>\n    </tr>\n    <tr>\n      <th>2</th>\n      <td>1/2/2016 20:25</td>\n      <td>1/2/2016 20:38</td>\n      <td>Business</td>\n      <td>Fort Pierce</td>\n      <td>Fort Pierce</td>\n      <td>4.8</td>\n      <td>Errand/Supplies</td>\n    </tr>\n    <tr>\n      <th>3</th>\n      <td>1/5/2016 17:31</td>\n      <td>1/5/2016 17:45</td>\n      <td>Business</td>\n      <td>Fort Pierce</td>\n      <td>Fort Pierce</td>\n      <td>4.7</td>\n      <td>Meeting</td>\n    </tr>\n    <tr>\n      <th>4</th>\n      <td>1/6/2016 14:42</td>\n      <td>1/6/2016 15:49</td>\n      <td>Business</td>\n      <td>Fort Pierce</td>\n      <td>West Palm Beach</td>\n      <td>63.7</td>\n      <td>Customer Visit</td>\n    </tr>\n  </tbody>\n</table>\n</div>"
     },
     "metadata": {},
     "execution_count": 46
    }
   ],
   "source": [
    "data_uber.head()"
   ]
  },
  {
   "cell_type": "code",
   "execution_count": 47,
   "metadata": {},
   "outputs": [
    {
     "output_type": "execute_result",
     "data": {
      "text/plain": [
       "           START_DATE*         END_DATE* CATEGORY*            START*  \\\n",
       "1151  12/31/2016 13:24  12/31/2016 13:42  Business           Kar?chi   \n",
       "1152  12/31/2016 15:03  12/31/2016 15:38  Business  Unknown Location   \n",
       "1153  12/31/2016 21:32  12/31/2016 21:50  Business        Katunayake   \n",
       "1154  12/31/2016 22:08  12/31/2016 23:51  Business           Gampaha   \n",
       "1155            Totals               NaN       NaN               NaN   \n",
       "\n",
       "                 STOP*   MILES*        PURPOSE*  \n",
       "1151  Unknown Location      3.9  Temporary Site  \n",
       "1152  Unknown Location     16.2         Meeting  \n",
       "1153           Gampaha      6.4  Temporary Site  \n",
       "1154         Ilukwatta     48.2  Temporary Site  \n",
       "1155               NaN  12204.7             NaN  "
      ],
      "text/html": "<div>\n<style scoped>\n    .dataframe tbody tr th:only-of-type {\n        vertical-align: middle;\n    }\n\n    .dataframe tbody tr th {\n        vertical-align: top;\n    }\n\n    .dataframe thead th {\n        text-align: right;\n    }\n</style>\n<table border=\"1\" class=\"dataframe\">\n  <thead>\n    <tr style=\"text-align: right;\">\n      <th></th>\n      <th>START_DATE*</th>\n      <th>END_DATE*</th>\n      <th>CATEGORY*</th>\n      <th>START*</th>\n      <th>STOP*</th>\n      <th>MILES*</th>\n      <th>PURPOSE*</th>\n    </tr>\n  </thead>\n  <tbody>\n    <tr>\n      <th>1151</th>\n      <td>12/31/2016 13:24</td>\n      <td>12/31/2016 13:42</td>\n      <td>Business</td>\n      <td>Kar?chi</td>\n      <td>Unknown Location</td>\n      <td>3.9</td>\n      <td>Temporary Site</td>\n    </tr>\n    <tr>\n      <th>1152</th>\n      <td>12/31/2016 15:03</td>\n      <td>12/31/2016 15:38</td>\n      <td>Business</td>\n      <td>Unknown Location</td>\n      <td>Unknown Location</td>\n      <td>16.2</td>\n      <td>Meeting</td>\n    </tr>\n    <tr>\n      <th>1153</th>\n      <td>12/31/2016 21:32</td>\n      <td>12/31/2016 21:50</td>\n      <td>Business</td>\n      <td>Katunayake</td>\n      <td>Gampaha</td>\n      <td>6.4</td>\n      <td>Temporary Site</td>\n    </tr>\n    <tr>\n      <th>1154</th>\n      <td>12/31/2016 22:08</td>\n      <td>12/31/2016 23:51</td>\n      <td>Business</td>\n      <td>Gampaha</td>\n      <td>Ilukwatta</td>\n      <td>48.2</td>\n      <td>Temporary Site</td>\n    </tr>\n    <tr>\n      <th>1155</th>\n      <td>Totals</td>\n      <td>NaN</td>\n      <td>NaN</td>\n      <td>NaN</td>\n      <td>NaN</td>\n      <td>12204.7</td>\n      <td>NaN</td>\n    </tr>\n  </tbody>\n</table>\n</div>"
     },
     "metadata": {},
     "execution_count": 47
    }
   ],
   "source": [
    "data_uber.tail()"
   ]
  },
  {
   "cell_type": "code",
   "execution_count": 49,
   "metadata": {},
   "outputs": [
    {
     "output_type": "execute_result",
     "data": {
      "text/plain": [
       "(1156, 7)"
      ]
     },
     "metadata": {},
     "execution_count": 49
    }
   ],
   "source": [
    "data_uber.shape"
   ]
  },
  {
   "cell_type": "code",
   "execution_count": 50,
   "metadata": {},
   "outputs": [
    {
     "output_type": "execute_result",
     "data": {
      "text/plain": [
       "START_DATE*     object\n",
       "END_DATE*       object\n",
       "CATEGORY*       object\n",
       "START*          object\n",
       "STOP*           object\n",
       "MILES*         float64\n",
       "PURPOSE*        object\n",
       "dtype: object"
      ]
     },
     "metadata": {},
     "execution_count": 50
    }
   ],
   "source": [
    "data_uber.dtypes"
   ]
  },
  {
   "cell_type": "code",
   "execution_count": 51,
   "metadata": {},
   "outputs": [
    {
     "output_type": "execute_result",
     "data": {
      "text/plain": [
       "  Cost  Amount        Date\n",
       "0    5      11  11-10-2020\n",
       "1    5      12  12-10-2020\n",
       "2    7      13  13-10-2020"
      ],
      "text/html": "<div>\n<style scoped>\n    .dataframe tbody tr th:only-of-type {\n        vertical-align: middle;\n    }\n\n    .dataframe tbody tr th {\n        vertical-align: top;\n    }\n\n    .dataframe thead th {\n        text-align: right;\n    }\n</style>\n<table border=\"1\" class=\"dataframe\">\n  <thead>\n    <tr style=\"text-align: right;\">\n      <th></th>\n      <th>Cost</th>\n      <th>Amount</th>\n      <th>Date</th>\n    </tr>\n  </thead>\n  <tbody>\n    <tr>\n      <th>0</th>\n      <td>5</td>\n      <td>11</td>\n      <td>11-10-2020</td>\n    </tr>\n    <tr>\n      <th>1</th>\n      <td>5</td>\n      <td>12</td>\n      <td>12-10-2020</td>\n    </tr>\n    <tr>\n      <th>2</th>\n      <td>7</td>\n      <td>13</td>\n      <td>13-10-2020</td>\n    </tr>\n  </tbody>\n</table>\n</div>"
     },
     "metadata": {},
     "execution_count": 51
    }
   ],
   "source": [
    "data1 = pd.DataFrame({\"Cost\":[\"5\",\"5\",\"7\"],\"Amount\":[11,12,13],\"Date\": [\"11-10-2020\",\"12-10-2020\",\"13-10-2020\"]})\n",
    "data1"
   ]
  },
  {
   "cell_type": "code",
   "execution_count": 56,
   "metadata": {},
   "outputs": [
    {
     "output_type": "execute_result",
     "data": {
      "text/plain": [
       "Cost               int64\n",
       "Amount             int64\n",
       "Date      datetime64[ns]\n",
       "dtype: object"
      ]
     },
     "metadata": {},
     "execution_count": 56
    }
   ],
   "source": [
    "data1.dtypes"
   ]
  },
  {
   "cell_type": "code",
   "execution_count": null,
   "metadata": {},
   "outputs": [],
   "source": []
  },
  {
   "cell_type": "code",
   "execution_count": 53,
   "metadata": {},
   "outputs": [],
   "source": [
    "data1['Date'] = pd.to_datetime(data1['Date'])"
   ]
  },
  {
   "cell_type": "code",
   "execution_count": 55,
   "metadata": {},
   "outputs": [],
   "source": [
    "data1['Cost'] = pd.to_numeric(data1['Cost'])"
   ]
  },
  {
   "cell_type": "code",
   "execution_count": 57,
   "metadata": {},
   "outputs": [
    {
     "output_type": "execute_result",
     "data": {
      "text/plain": [
       "START_DATE*     object\n",
       "END_DATE*       object\n",
       "CATEGORY*       object\n",
       "START*          object\n",
       "STOP*           object\n",
       "MILES*         float64\n",
       "PURPOSE*        object\n",
       "dtype: object"
      ]
     },
     "metadata": {},
     "execution_count": 57
    }
   ],
   "source": [
    "data_uber.dtypes"
   ]
  },
  {
   "cell_type": "code",
   "execution_count": 62,
   "metadata": {},
   "outputs": [
    {
     "output_type": "execute_result",
     "data": {
      "text/plain": [
       "             START_DATE*         END_DATE* CATEGORY*            START*  \\\n",
       "0    2016-01-01 21:11:00    1/1/2016 21:17  Business       Fort Pierce   \n",
       "1    2016-01-02 01:25:00     1/2/2016 1:37  Business       Fort Pierce   \n",
       "2    2016-01-02 20:25:00    1/2/2016 20:38  Business       Fort Pierce   \n",
       "3    2016-01-05 17:31:00    1/5/2016 17:45  Business       Fort Pierce   \n",
       "4    2016-01-06 14:42:00    1/6/2016 15:49  Business       Fort Pierce   \n",
       "...                  ...               ...       ...               ...   \n",
       "1151 2016-12-31 13:24:00  12/31/2016 13:42  Business           Kar?chi   \n",
       "1152 2016-12-31 15:03:00  12/31/2016 15:38  Business  Unknown Location   \n",
       "1153 2016-12-31 21:32:00  12/31/2016 21:50  Business        Katunayake   \n",
       "1154 2016-12-31 22:08:00  12/31/2016 23:51  Business           Gampaha   \n",
       "1155                 NaT               NaN       NaN               NaN   \n",
       "\n",
       "                 STOP*   MILES*         PURPOSE*  \n",
       "0          Fort Pierce      5.1   Meal/Entertain  \n",
       "1          Fort Pierce      5.0              NaN  \n",
       "2          Fort Pierce      4.8  Errand/Supplies  \n",
       "3          Fort Pierce      4.7          Meeting  \n",
       "4      West Palm Beach     63.7   Customer Visit  \n",
       "...                ...      ...              ...  \n",
       "1151  Unknown Location      3.9   Temporary Site  \n",
       "1152  Unknown Location     16.2          Meeting  \n",
       "1153           Gampaha      6.4   Temporary Site  \n",
       "1154         Ilukwatta     48.2   Temporary Site  \n",
       "1155               NaN  12204.7              NaN  \n",
       "\n",
       "[1156 rows x 7 columns]"
      ],
      "text/html": "<div>\n<style scoped>\n    .dataframe tbody tr th:only-of-type {\n        vertical-align: middle;\n    }\n\n    .dataframe tbody tr th {\n        vertical-align: top;\n    }\n\n    .dataframe thead th {\n        text-align: right;\n    }\n</style>\n<table border=\"1\" class=\"dataframe\">\n  <thead>\n    <tr style=\"text-align: right;\">\n      <th></th>\n      <th>START_DATE*</th>\n      <th>END_DATE*</th>\n      <th>CATEGORY*</th>\n      <th>START*</th>\n      <th>STOP*</th>\n      <th>MILES*</th>\n      <th>PURPOSE*</th>\n    </tr>\n  </thead>\n  <tbody>\n    <tr>\n      <th>0</th>\n      <td>2016-01-01 21:11:00</td>\n      <td>1/1/2016 21:17</td>\n      <td>Business</td>\n      <td>Fort Pierce</td>\n      <td>Fort Pierce</td>\n      <td>5.1</td>\n      <td>Meal/Entertain</td>\n    </tr>\n    <tr>\n      <th>1</th>\n      <td>2016-01-02 01:25:00</td>\n      <td>1/2/2016 1:37</td>\n      <td>Business</td>\n      <td>Fort Pierce</td>\n      <td>Fort Pierce</td>\n      <td>5.0</td>\n      <td>NaN</td>\n    </tr>\n    <tr>\n      <th>2</th>\n      <td>2016-01-02 20:25:00</td>\n      <td>1/2/2016 20:38</td>\n      <td>Business</td>\n      <td>Fort Pierce</td>\n      <td>Fort Pierce</td>\n      <td>4.8</td>\n      <td>Errand/Supplies</td>\n    </tr>\n    <tr>\n      <th>3</th>\n      <td>2016-01-05 17:31:00</td>\n      <td>1/5/2016 17:45</td>\n      <td>Business</td>\n      <td>Fort Pierce</td>\n      <td>Fort Pierce</td>\n      <td>4.7</td>\n      <td>Meeting</td>\n    </tr>\n    <tr>\n      <th>4</th>\n      <td>2016-01-06 14:42:00</td>\n      <td>1/6/2016 15:49</td>\n      <td>Business</td>\n      <td>Fort Pierce</td>\n      <td>West Palm Beach</td>\n      <td>63.7</td>\n      <td>Customer Visit</td>\n    </tr>\n    <tr>\n      <th>...</th>\n      <td>...</td>\n      <td>...</td>\n      <td>...</td>\n      <td>...</td>\n      <td>...</td>\n      <td>...</td>\n      <td>...</td>\n    </tr>\n    <tr>\n      <th>1151</th>\n      <td>2016-12-31 13:24:00</td>\n      <td>12/31/2016 13:42</td>\n      <td>Business</td>\n      <td>Kar?chi</td>\n      <td>Unknown Location</td>\n      <td>3.9</td>\n      <td>Temporary Site</td>\n    </tr>\n    <tr>\n      <th>1152</th>\n      <td>2016-12-31 15:03:00</td>\n      <td>12/31/2016 15:38</td>\n      <td>Business</td>\n      <td>Unknown Location</td>\n      <td>Unknown Location</td>\n      <td>16.2</td>\n      <td>Meeting</td>\n    </tr>\n    <tr>\n      <th>1153</th>\n      <td>2016-12-31 21:32:00</td>\n      <td>12/31/2016 21:50</td>\n      <td>Business</td>\n      <td>Katunayake</td>\n      <td>Gampaha</td>\n      <td>6.4</td>\n      <td>Temporary Site</td>\n    </tr>\n    <tr>\n      <th>1154</th>\n      <td>2016-12-31 22:08:00</td>\n      <td>12/31/2016 23:51</td>\n      <td>Business</td>\n      <td>Gampaha</td>\n      <td>Ilukwatta</td>\n      <td>48.2</td>\n      <td>Temporary Site</td>\n    </tr>\n    <tr>\n      <th>1155</th>\n      <td>NaT</td>\n      <td>NaN</td>\n      <td>NaN</td>\n      <td>NaN</td>\n      <td>NaN</td>\n      <td>12204.7</td>\n      <td>NaN</td>\n    </tr>\n  </tbody>\n</table>\n<p>1156 rows × 7 columns</p>\n</div>"
     },
     "metadata": {},
     "execution_count": 62
    }
   ],
   "source": [
    "data_uber[\"START_DATE*\"] = pd.to_datetime(data_uber[\"START_DATE*\"],format='%m/%d/%Y %H:%M', errors = 'coerce')\n",
    "data_uber"
   ]
  },
  {
   "cell_type": "code",
   "execution_count": 64,
   "metadata": {},
   "outputs": [
    {
     "output_type": "execute_result",
     "data": {
      "text/plain": [
       "             START_DATE*           END_DATE* CATEGORY*            START*  \\\n",
       "0    2016-01-01 21:11:00 2016-01-01 21:17:00  Business       Fort Pierce   \n",
       "1    2016-01-02 01:25:00 2016-01-02 01:37:00  Business       Fort Pierce   \n",
       "2    2016-01-02 20:25:00 2016-01-02 20:38:00  Business       Fort Pierce   \n",
       "3    2016-01-05 17:31:00 2016-01-05 17:45:00  Business       Fort Pierce   \n",
       "4    2016-01-06 14:42:00 2016-01-06 15:49:00  Business       Fort Pierce   \n",
       "...                  ...                 ...       ...               ...   \n",
       "1151 2016-12-31 13:24:00 2016-12-31 13:42:00  Business           Kar?chi   \n",
       "1152 2016-12-31 15:03:00 2016-12-31 15:38:00  Business  Unknown Location   \n",
       "1153 2016-12-31 21:32:00 2016-12-31 21:50:00  Business        Katunayake   \n",
       "1154 2016-12-31 22:08:00 2016-12-31 23:51:00  Business           Gampaha   \n",
       "1155                 NaT                 NaT       NaN               NaN   \n",
       "\n",
       "                 STOP*   MILES*         PURPOSE*  \n",
       "0          Fort Pierce      5.1   Meal/Entertain  \n",
       "1          Fort Pierce      5.0              NaN  \n",
       "2          Fort Pierce      4.8  Errand/Supplies  \n",
       "3          Fort Pierce      4.7          Meeting  \n",
       "4      West Palm Beach     63.7   Customer Visit  \n",
       "...                ...      ...              ...  \n",
       "1151  Unknown Location      3.9   Temporary Site  \n",
       "1152  Unknown Location     16.2          Meeting  \n",
       "1153           Gampaha      6.4   Temporary Site  \n",
       "1154         Ilukwatta     48.2   Temporary Site  \n",
       "1155               NaN  12204.7              NaN  \n",
       "\n",
       "[1156 rows x 7 columns]"
      ],
      "text/html": "<div>\n<style scoped>\n    .dataframe tbody tr th:only-of-type {\n        vertical-align: middle;\n    }\n\n    .dataframe tbody tr th {\n        vertical-align: top;\n    }\n\n    .dataframe thead th {\n        text-align: right;\n    }\n</style>\n<table border=\"1\" class=\"dataframe\">\n  <thead>\n    <tr style=\"text-align: right;\">\n      <th></th>\n      <th>START_DATE*</th>\n      <th>END_DATE*</th>\n      <th>CATEGORY*</th>\n      <th>START*</th>\n      <th>STOP*</th>\n      <th>MILES*</th>\n      <th>PURPOSE*</th>\n    </tr>\n  </thead>\n  <tbody>\n    <tr>\n      <th>0</th>\n      <td>2016-01-01 21:11:00</td>\n      <td>2016-01-01 21:17:00</td>\n      <td>Business</td>\n      <td>Fort Pierce</td>\n      <td>Fort Pierce</td>\n      <td>5.1</td>\n      <td>Meal/Entertain</td>\n    </tr>\n    <tr>\n      <th>1</th>\n      <td>2016-01-02 01:25:00</td>\n      <td>2016-01-02 01:37:00</td>\n      <td>Business</td>\n      <td>Fort Pierce</td>\n      <td>Fort Pierce</td>\n      <td>5.0</td>\n      <td>NaN</td>\n    </tr>\n    <tr>\n      <th>2</th>\n      <td>2016-01-02 20:25:00</td>\n      <td>2016-01-02 20:38:00</td>\n      <td>Business</td>\n      <td>Fort Pierce</td>\n      <td>Fort Pierce</td>\n      <td>4.8</td>\n      <td>Errand/Supplies</td>\n    </tr>\n    <tr>\n      <th>3</th>\n      <td>2016-01-05 17:31:00</td>\n      <td>2016-01-05 17:45:00</td>\n      <td>Business</td>\n      <td>Fort Pierce</td>\n      <td>Fort Pierce</td>\n      <td>4.7</td>\n      <td>Meeting</td>\n    </tr>\n    <tr>\n      <th>4</th>\n      <td>2016-01-06 14:42:00</td>\n      <td>2016-01-06 15:49:00</td>\n      <td>Business</td>\n      <td>Fort Pierce</td>\n      <td>West Palm Beach</td>\n      <td>63.7</td>\n      <td>Customer Visit</td>\n    </tr>\n    <tr>\n      <th>...</th>\n      <td>...</td>\n      <td>...</td>\n      <td>...</td>\n      <td>...</td>\n      <td>...</td>\n      <td>...</td>\n      <td>...</td>\n    </tr>\n    <tr>\n      <th>1151</th>\n      <td>2016-12-31 13:24:00</td>\n      <td>2016-12-31 13:42:00</td>\n      <td>Business</td>\n      <td>Kar?chi</td>\n      <td>Unknown Location</td>\n      <td>3.9</td>\n      <td>Temporary Site</td>\n    </tr>\n    <tr>\n      <th>1152</th>\n      <td>2016-12-31 15:03:00</td>\n      <td>2016-12-31 15:38:00</td>\n      <td>Business</td>\n      <td>Unknown Location</td>\n      <td>Unknown Location</td>\n      <td>16.2</td>\n      <td>Meeting</td>\n    </tr>\n    <tr>\n      <th>1153</th>\n      <td>2016-12-31 21:32:00</td>\n      <td>2016-12-31 21:50:00</td>\n      <td>Business</td>\n      <td>Katunayake</td>\n      <td>Gampaha</td>\n      <td>6.4</td>\n      <td>Temporary Site</td>\n    </tr>\n    <tr>\n      <th>1154</th>\n      <td>2016-12-31 22:08:00</td>\n      <td>2016-12-31 23:51:00</td>\n      <td>Business</td>\n      <td>Gampaha</td>\n      <td>Ilukwatta</td>\n      <td>48.2</td>\n      <td>Temporary Site</td>\n    </tr>\n    <tr>\n      <th>1155</th>\n      <td>NaT</td>\n      <td>NaT</td>\n      <td>NaN</td>\n      <td>NaN</td>\n      <td>NaN</td>\n      <td>12204.7</td>\n      <td>NaN</td>\n    </tr>\n  </tbody>\n</table>\n<p>1156 rows × 7 columns</p>\n</div>"
     },
     "metadata": {},
     "execution_count": 64
    }
   ],
   "source": [
    "data_uber[\"END_DATE*\"] = pd.to_datetime(data_uber[\"END_DATE*\"],format='%m/%d/%Y %H:%M', errors = 'coerce')\n",
    "data_uber"
   ]
  },
  {
   "cell_type": "code",
   "execution_count": 65,
   "metadata": {},
   "outputs": [
    {
     "output_type": "execute_result",
     "data": {
      "text/plain": [
       "START_DATE*    datetime64[ns]\n",
       "END_DATE*      datetime64[ns]\n",
       "CATEGORY*              object\n",
       "START*                 object\n",
       "STOP*                  object\n",
       "MILES*                float64\n",
       "PURPOSE*               object\n",
       "dtype: object"
      ]
     },
     "metadata": {},
     "execution_count": 65
    }
   ],
   "source": [
    "data_uber.dtypes"
   ]
  },
  {
   "cell_type": "code",
   "execution_count": 69,
   "metadata": {},
   "outputs": [
    {
     "output_type": "execute_result",
     "data": {
      "text/plain": [
       "             MILES*\n",
       "count   1156.000000\n",
       "mean      21.115398\n",
       "std      359.299007\n",
       "min        0.500000\n",
       "25%        2.900000\n",
       "50%        6.000000\n",
       "75%       10.400000\n",
       "max    12204.700000"
      ],
      "text/html": "<div>\n<style scoped>\n    .dataframe tbody tr th:only-of-type {\n        vertical-align: middle;\n    }\n\n    .dataframe tbody tr th {\n        vertical-align: top;\n    }\n\n    .dataframe thead th {\n        text-align: right;\n    }\n</style>\n<table border=\"1\" class=\"dataframe\">\n  <thead>\n    <tr style=\"text-align: right;\">\n      <th></th>\n      <th>MILES*</th>\n    </tr>\n  </thead>\n  <tbody>\n    <tr>\n      <th>count</th>\n      <td>1156.000000</td>\n    </tr>\n    <tr>\n      <th>mean</th>\n      <td>21.115398</td>\n    </tr>\n    <tr>\n      <th>std</th>\n      <td>359.299007</td>\n    </tr>\n    <tr>\n      <th>min</th>\n      <td>0.500000</td>\n    </tr>\n    <tr>\n      <th>25%</th>\n      <td>2.900000</td>\n    </tr>\n    <tr>\n      <th>50%</th>\n      <td>6.000000</td>\n    </tr>\n    <tr>\n      <th>75%</th>\n      <td>10.400000</td>\n    </tr>\n    <tr>\n      <th>max</th>\n      <td>12204.700000</td>\n    </tr>\n  </tbody>\n</table>\n</div>"
     },
     "metadata": {},
     "execution_count": 69
    }
   ],
   "source": [
    "data_uber.describe()"
   ]
  },
  {
   "cell_type": "code",
   "execution_count": 70,
   "metadata": {},
   "outputs": [
    {
     "output_type": "stream",
     "name": "stdout",
     "text": [
      "<class 'pandas.core.frame.DataFrame'>\nRangeIndex: 1156 entries, 0 to 1155\nData columns (total 7 columns):\n #   Column       Non-Null Count  Dtype         \n---  ------       --------------  -----         \n 0   START_DATE*  1155 non-null   datetime64[ns]\n 1   END_DATE*    1155 non-null   datetime64[ns]\n 2   CATEGORY*    1155 non-null   object        \n 3   START*       1155 non-null   object        \n 4   STOP*        1155 non-null   object        \n 5   MILES*       1156 non-null   float64       \n 6   PURPOSE*     653 non-null    object        \ndtypes: datetime64[ns](2), float64(1), object(4)\nmemory usage: 63.3+ KB\n"
     ]
    }
   ],
   "source": [
    "data_uber.info()"
   ]
  },
  {
   "cell_type": "code",
   "execution_count": 77,
   "metadata": {},
   "outputs": [
    {
     "output_type": "execute_result",
     "data": {
      "text/plain": [
       "    Nama Umur Kelas\n",
       "0  ahmad   12     6"
      ],
      "text/html": "<div>\n<style scoped>\n    .dataframe tbody tr th:only-of-type {\n        vertical-align: middle;\n    }\n\n    .dataframe tbody tr th {\n        vertical-align: top;\n    }\n\n    .dataframe thead th {\n        text-align: right;\n    }\n</style>\n<table border=\"1\" class=\"dataframe\">\n  <thead>\n    <tr style=\"text-align: right;\">\n      <th></th>\n      <th>Nama</th>\n      <th>Umur</th>\n      <th>Kelas</th>\n    </tr>\n  </thead>\n  <tbody>\n    <tr>\n      <th>0</th>\n      <td>ahmad</td>\n      <td>12</td>\n      <td>6</td>\n    </tr>\n  </tbody>\n</table>\n</div>"
     },
     "metadata": {},
     "execution_count": 77
    }
   ],
   "source": [
    "soal2_1 = pd.DataFrame(data={\n",
    "    \"Nama\" :[\"ahmad\"],\n",
    "    \"Umur\" :[\"12\"],\n",
    "    \"Kelas\" :[\"6\"],\n",
    "    \n",
    "})\n",
    "soal2_1"
   ]
  },
  {
   "cell_type": "code",
   "execution_count": 78,
   "metadata": {},
   "outputs": [
    {
     "output_type": "execute_result",
     "data": {
      "text/plain": [
       "Nama     object\n",
       "Umur      int64\n",
       "Kelas    object\n",
       "dtype: object"
      ]
     },
     "metadata": {},
     "execution_count": 78
    }
   ],
   "source": [
    "soal2_1['Umur'] = pd.to_numeric(soal2_1['Umur'])\n",
    "soal2_1.dtypes"
   ]
  },
  {
   "cell_type": "code",
   "execution_count": 85,
   "metadata": {},
   "outputs": [
    {
     "output_type": "execute_result",
     "data": {
      "text/plain": [
       "   PassengerId  Survived  Pclass  \\\n",
       "0            1         0       3   \n",
       "1            2         1       1   \n",
       "2            3         1       3   \n",
       "3            4         1       1   \n",
       "4            5         0       3   \n",
       "\n",
       "                                                Name     Sex   Age  SibSp  \\\n",
       "0                            Braund, Mr. Owen Harris    male  22.0      1   \n",
       "1  Cumings, Mrs. John Bradley (Florence Briggs Th...  female  38.0      1   \n",
       "2                             Heikkinen, Miss. Laina  female  26.0      0   \n",
       "3       Futrelle, Mrs. Jacques Heath (Lily May Peel)  female  35.0      1   \n",
       "4                           Allen, Mr. William Henry    male  35.0      0   \n",
       "\n",
       "   Parch            Ticket     Fare Cabin Embarked  \n",
       "0      0         A/5 21171   7.2500   NaN        S  \n",
       "1      0          PC 17599  71.2833   C85        C  \n",
       "2      0  STON/O2. 3101282   7.9250   NaN        S  \n",
       "3      0            113803  53.1000  C123        S  \n",
       "4      0            373450   8.0500   NaN        S  "
      ],
      "text/html": "<div>\n<style scoped>\n    .dataframe tbody tr th:only-of-type {\n        vertical-align: middle;\n    }\n\n    .dataframe tbody tr th {\n        vertical-align: top;\n    }\n\n    .dataframe thead th {\n        text-align: right;\n    }\n</style>\n<table border=\"1\" class=\"dataframe\">\n  <thead>\n    <tr style=\"text-align: right;\">\n      <th></th>\n      <th>PassengerId</th>\n      <th>Survived</th>\n      <th>Pclass</th>\n      <th>Name</th>\n      <th>Sex</th>\n      <th>Age</th>\n      <th>SibSp</th>\n      <th>Parch</th>\n      <th>Ticket</th>\n      <th>Fare</th>\n      <th>Cabin</th>\n      <th>Embarked</th>\n    </tr>\n  </thead>\n  <tbody>\n    <tr>\n      <th>0</th>\n      <td>1</td>\n      <td>0</td>\n      <td>3</td>\n      <td>Braund, Mr. Owen Harris</td>\n      <td>male</td>\n      <td>22.0</td>\n      <td>1</td>\n      <td>0</td>\n      <td>A/5 21171</td>\n      <td>7.2500</td>\n      <td>NaN</td>\n      <td>S</td>\n    </tr>\n    <tr>\n      <th>1</th>\n      <td>2</td>\n      <td>1</td>\n      <td>1</td>\n      <td>Cumings, Mrs. John Bradley (Florence Briggs Th...</td>\n      <td>female</td>\n      <td>38.0</td>\n      <td>1</td>\n      <td>0</td>\n      <td>PC 17599</td>\n      <td>71.2833</td>\n      <td>C85</td>\n      <td>C</td>\n    </tr>\n    <tr>\n      <th>2</th>\n      <td>3</td>\n      <td>1</td>\n      <td>3</td>\n      <td>Heikkinen, Miss. Laina</td>\n      <td>female</td>\n      <td>26.0</td>\n      <td>0</td>\n      <td>0</td>\n      <td>STON/O2. 3101282</td>\n      <td>7.9250</td>\n      <td>NaN</td>\n      <td>S</td>\n    </tr>\n    <tr>\n      <th>3</th>\n      <td>4</td>\n      <td>1</td>\n      <td>1</td>\n      <td>Futrelle, Mrs. Jacques Heath (Lily May Peel)</td>\n      <td>female</td>\n      <td>35.0</td>\n      <td>1</td>\n      <td>0</td>\n      <td>113803</td>\n      <td>53.1000</td>\n      <td>C123</td>\n      <td>S</td>\n    </tr>\n    <tr>\n      <th>4</th>\n      <td>5</td>\n      <td>0</td>\n      <td>3</td>\n      <td>Allen, Mr. William Henry</td>\n      <td>male</td>\n      <td>35.0</td>\n      <td>0</td>\n      <td>0</td>\n      <td>373450</td>\n      <td>8.0500</td>\n      <td>NaN</td>\n      <td>S</td>\n    </tr>\n  </tbody>\n</table>\n</div>"
     },
     "metadata": {},
     "execution_count": 85
    }
   ],
   "source": [
    "soal2_2 = pd.read_csv('train.csv')\n",
    "soal2_2.head()\n"
   ]
  },
  {
   "cell_type": "code",
   "execution_count": 84,
   "metadata": {},
   "outputs": [
    {
     "output_type": "execute_result",
     "data": {
      "text/plain": [
       "     PassengerId  Survived  Pclass                                      Name  \\\n",
       "886          887         0       2                     Montvila, Rev. Juozas   \n",
       "887          888         1       1              Graham, Miss. Margaret Edith   \n",
       "888          889         0       3  Johnston, Miss. Catherine Helen \"Carrie\"   \n",
       "889          890         1       1                     Behr, Mr. Karl Howell   \n",
       "890          891         0       3                       Dooley, Mr. Patrick   \n",
       "\n",
       "        Sex   Age  SibSp  Parch      Ticket   Fare Cabin Embarked  \n",
       "886    male  27.0      0      0      211536  13.00   NaN        S  \n",
       "887  female  19.0      0      0      112053  30.00   B42        S  \n",
       "888  female   NaN      1      2  W./C. 6607  23.45   NaN        S  \n",
       "889    male  26.0      0      0      111369  30.00  C148        C  \n",
       "890    male  32.0      0      0      370376   7.75   NaN        Q  "
      ],
      "text/html": "<div>\n<style scoped>\n    .dataframe tbody tr th:only-of-type {\n        vertical-align: middle;\n    }\n\n    .dataframe tbody tr th {\n        vertical-align: top;\n    }\n\n    .dataframe thead th {\n        text-align: right;\n    }\n</style>\n<table border=\"1\" class=\"dataframe\">\n  <thead>\n    <tr style=\"text-align: right;\">\n      <th></th>\n      <th>PassengerId</th>\n      <th>Survived</th>\n      <th>Pclass</th>\n      <th>Name</th>\n      <th>Sex</th>\n      <th>Age</th>\n      <th>SibSp</th>\n      <th>Parch</th>\n      <th>Ticket</th>\n      <th>Fare</th>\n      <th>Cabin</th>\n      <th>Embarked</th>\n    </tr>\n  </thead>\n  <tbody>\n    <tr>\n      <th>886</th>\n      <td>887</td>\n      <td>0</td>\n      <td>2</td>\n      <td>Montvila, Rev. Juozas</td>\n      <td>male</td>\n      <td>27.0</td>\n      <td>0</td>\n      <td>0</td>\n      <td>211536</td>\n      <td>13.00</td>\n      <td>NaN</td>\n      <td>S</td>\n    </tr>\n    <tr>\n      <th>887</th>\n      <td>888</td>\n      <td>1</td>\n      <td>1</td>\n      <td>Graham, Miss. Margaret Edith</td>\n      <td>female</td>\n      <td>19.0</td>\n      <td>0</td>\n      <td>0</td>\n      <td>112053</td>\n      <td>30.00</td>\n      <td>B42</td>\n      <td>S</td>\n    </tr>\n    <tr>\n      <th>888</th>\n      <td>889</td>\n      <td>0</td>\n      <td>3</td>\n      <td>Johnston, Miss. Catherine Helen \"Carrie\"</td>\n      <td>female</td>\n      <td>NaN</td>\n      <td>1</td>\n      <td>2</td>\n      <td>W./C. 6607</td>\n      <td>23.45</td>\n      <td>NaN</td>\n      <td>S</td>\n    </tr>\n    <tr>\n      <th>889</th>\n      <td>890</td>\n      <td>1</td>\n      <td>1</td>\n      <td>Behr, Mr. Karl Howell</td>\n      <td>male</td>\n      <td>26.0</td>\n      <td>0</td>\n      <td>0</td>\n      <td>111369</td>\n      <td>30.00</td>\n      <td>C148</td>\n      <td>C</td>\n    </tr>\n    <tr>\n      <th>890</th>\n      <td>891</td>\n      <td>0</td>\n      <td>3</td>\n      <td>Dooley, Mr. Patrick</td>\n      <td>male</td>\n      <td>32.0</td>\n      <td>0</td>\n      <td>0</td>\n      <td>370376</td>\n      <td>7.75</td>\n      <td>NaN</td>\n      <td>Q</td>\n    </tr>\n  </tbody>\n</table>\n</div>"
     },
     "metadata": {},
     "execution_count": 84
    }
   ],
   "source": [
    "\n",
    "soal2_2.tail()"
   ]
  },
  {
   "cell_type": "code",
   "execution_count": 86,
   "metadata": {},
   "outputs": [
    {
     "output_type": "execute_result",
     "data": {
      "text/plain": [
       "       PassengerId    Survived      Pclass         Age       SibSp  \\\n",
       "count   891.000000  891.000000  891.000000  714.000000  891.000000   \n",
       "mean    446.000000    0.383838    2.308642   29.699118    0.523008   \n",
       "std     257.353842    0.486592    0.836071   14.526497    1.102743   \n",
       "min       1.000000    0.000000    1.000000    0.420000    0.000000   \n",
       "25%     223.500000    0.000000    2.000000   20.125000    0.000000   \n",
       "50%     446.000000    0.000000    3.000000   28.000000    0.000000   \n",
       "75%     668.500000    1.000000    3.000000   38.000000    1.000000   \n",
       "max     891.000000    1.000000    3.000000   80.000000    8.000000   \n",
       "\n",
       "            Parch        Fare  \n",
       "count  891.000000  891.000000  \n",
       "mean     0.381594   32.204208  \n",
       "std      0.806057   49.693429  \n",
       "min      0.000000    0.000000  \n",
       "25%      0.000000    7.910400  \n",
       "50%      0.000000   14.454200  \n",
       "75%      0.000000   31.000000  \n",
       "max      6.000000  512.329200  "
      ],
      "text/html": "<div>\n<style scoped>\n    .dataframe tbody tr th:only-of-type {\n        vertical-align: middle;\n    }\n\n    .dataframe tbody tr th {\n        vertical-align: top;\n    }\n\n    .dataframe thead th {\n        text-align: right;\n    }\n</style>\n<table border=\"1\" class=\"dataframe\">\n  <thead>\n    <tr style=\"text-align: right;\">\n      <th></th>\n      <th>PassengerId</th>\n      <th>Survived</th>\n      <th>Pclass</th>\n      <th>Age</th>\n      <th>SibSp</th>\n      <th>Parch</th>\n      <th>Fare</th>\n    </tr>\n  </thead>\n  <tbody>\n    <tr>\n      <th>count</th>\n      <td>891.000000</td>\n      <td>891.000000</td>\n      <td>891.000000</td>\n      <td>714.000000</td>\n      <td>891.000000</td>\n      <td>891.000000</td>\n      <td>891.000000</td>\n    </tr>\n    <tr>\n      <th>mean</th>\n      <td>446.000000</td>\n      <td>0.383838</td>\n      <td>2.308642</td>\n      <td>29.699118</td>\n      <td>0.523008</td>\n      <td>0.381594</td>\n      <td>32.204208</td>\n    </tr>\n    <tr>\n      <th>std</th>\n      <td>257.353842</td>\n      <td>0.486592</td>\n      <td>0.836071</td>\n      <td>14.526497</td>\n      <td>1.102743</td>\n      <td>0.806057</td>\n      <td>49.693429</td>\n    </tr>\n    <tr>\n      <th>min</th>\n      <td>1.000000</td>\n      <td>0.000000</td>\n      <td>1.000000</td>\n      <td>0.420000</td>\n      <td>0.000000</td>\n      <td>0.000000</td>\n      <td>0.000000</td>\n    </tr>\n    <tr>\n      <th>25%</th>\n      <td>223.500000</td>\n      <td>0.000000</td>\n      <td>2.000000</td>\n      <td>20.125000</td>\n      <td>0.000000</td>\n      <td>0.000000</td>\n      <td>7.910400</td>\n    </tr>\n    <tr>\n      <th>50%</th>\n      <td>446.000000</td>\n      <td>0.000000</td>\n      <td>3.000000</td>\n      <td>28.000000</td>\n      <td>0.000000</td>\n      <td>0.000000</td>\n      <td>14.454200</td>\n    </tr>\n    <tr>\n      <th>75%</th>\n      <td>668.500000</td>\n      <td>1.000000</td>\n      <td>3.000000</td>\n      <td>38.000000</td>\n      <td>1.000000</td>\n      <td>0.000000</td>\n      <td>31.000000</td>\n    </tr>\n    <tr>\n      <th>max</th>\n      <td>891.000000</td>\n      <td>1.000000</td>\n      <td>3.000000</td>\n      <td>80.000000</td>\n      <td>8.000000</td>\n      <td>6.000000</td>\n      <td>512.329200</td>\n    </tr>\n  </tbody>\n</table>\n</div>"
     },
     "metadata": {},
     "execution_count": 86
    }
   ],
   "source": [
    "soal2_2.describe()"
   ]
  },
  {
   "source": [
    "soal2_2.info()"
   ],
   "cell_type": "code",
   "metadata": {},
   "execution_count": 87,
   "outputs": [
    {
     "output_type": "stream",
     "name": "stdout",
     "text": [
      "<class 'pandas.core.frame.DataFrame'>\nRangeIndex: 891 entries, 0 to 890\nData columns (total 12 columns):\n #   Column       Non-Null Count  Dtype  \n---  ------       --------------  -----  \n 0   PassengerId  891 non-null    int64  \n 1   Survived     891 non-null    int64  \n 2   Pclass       891 non-null    int64  \n 3   Name         891 non-null    object \n 4   Sex          891 non-null    object \n 5   Age          714 non-null    float64\n 6   SibSp        891 non-null    int64  \n 7   Parch        891 non-null    int64  \n 8   Ticket       891 non-null    object \n 9   Fare         891 non-null    float64\n 10  Cabin        204 non-null    object \n 11  Embarked     889 non-null    object \ndtypes: float64(2), int64(5), object(5)\nmemory usage: 83.7+ KB\n"
     ]
    }
   ]
  },
  {
   "cell_type": "code",
   "execution_count": 88,
   "metadata": {},
   "outputs": [
    {
     "output_type": "execute_result",
     "data": {
      "text/plain": [
       "10692"
      ]
     },
     "metadata": {},
     "execution_count": 88
    }
   ],
   "source": [
    "soal2_2.size"
   ]
  },
  {
   "cell_type": "code",
   "execution_count": 89,
   "metadata": {},
   "outputs": [
    {
     "output_type": "execute_result",
     "data": {
      "text/plain": [
       "(891, 12)"
      ]
     },
     "metadata": {},
     "execution_count": 89
    }
   ],
   "source": [
    "soal2_2.shape"
   ]
  }
 ]
}