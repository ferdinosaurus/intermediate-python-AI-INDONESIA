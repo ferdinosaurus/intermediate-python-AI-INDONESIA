{
 "metadata": {
  "language_info": {
   "codemirror_mode": {
    "name": "ipython",
    "version": 3
   },
   "file_extension": ".py",
   "mimetype": "text/x-python",
   "name": "python",
   "nbconvert_exporter": "python",
   "pygments_lexer": "ipython3",
   "version": "3.9.1-final"
  },
  "orig_nbformat": 2,
  "kernelspec": {
   "name": "python3",
   "display_name": "Python 3.9.1 64-bit",
   "metadata": {
    "interpreter": {
     "hash": "4969c6fe2c42cbd27594bfebd6e7b78980a71a47dfd35d39d5170c29f59fb6bf"
    }
   }
  }
 },
 "nbformat": 4,
 "nbformat_minor": 2,
 "cells": [
  {
   "cell_type": "code",
   "execution_count": 45,
   "metadata": {},
   "outputs": [],
   "source": [
    "import numpy as np\n",
    "import pandas as pd"
   ]
  },
  {
   "source": [
    "# SOAL B\n",
    "## Import Data Hotel"
   ],
   "cell_type": "markdown",
   "metadata": {}
  },
  {
   "cell_type": "code",
   "execution_count": 46,
   "metadata": {},
   "outputs": [
    {
     "output_type": "execute_result",
     "data": {
      "text/plain": [
       "               hotel  is_canceled  lead_time  arrival_date_year  \\\n",
       "0       Resort Hotel            0        342               2015   \n",
       "1       Resort Hotel            0        737               2015   \n",
       "2       Resort Hotel            0          7               2015   \n",
       "3       Resort Hotel            0         13               2015   \n",
       "4       Resort Hotel            0         14               2015   \n",
       "...              ...          ...        ...                ...   \n",
       "119385    City Hotel            0         23               2017   \n",
       "119386    City Hotel            0        102               2017   \n",
       "119387    City Hotel            0         34               2017   \n",
       "119388    City Hotel            0        109               2017   \n",
       "119389    City Hotel            0        205               2017   \n",
       "\n",
       "       arrival_date_month  arrival_date_week_number  \\\n",
       "0                    July                        27   \n",
       "1                    July                        27   \n",
       "2                    July                        27   \n",
       "3                    July                        27   \n",
       "4                    July                        27   \n",
       "...                   ...                       ...   \n",
       "119385             August                        35   \n",
       "119386             August                        35   \n",
       "119387             August                        35   \n",
       "119388             August                        35   \n",
       "119389             August                        35   \n",
       "\n",
       "        arrival_date_day_of_month  stays_in_weekend_nights  \\\n",
       "0                               1                        0   \n",
       "1                               1                        0   \n",
       "2                               1                        0   \n",
       "3                               1                        0   \n",
       "4                               1                        0   \n",
       "...                           ...                      ...   \n",
       "119385                         30                        2   \n",
       "119386                         31                        2   \n",
       "119387                         31                        2   \n",
       "119388                         31                        2   \n",
       "119389                         29                        2   \n",
       "\n",
       "        stays_in_week_nights  adults  ...  deposit_type  agent company  \\\n",
       "0                          0       2  ...    No Deposit    NaN     NaN   \n",
       "1                          0       2  ...    No Deposit    NaN     NaN   \n",
       "2                          1       1  ...    No Deposit    NaN     NaN   \n",
       "3                          1       1  ...    No Deposit  304.0     NaN   \n",
       "4                          2       2  ...    No Deposit  240.0     NaN   \n",
       "...                      ...     ...  ...           ...    ...     ...   \n",
       "119385                     5       2  ...    No Deposit  394.0     NaN   \n",
       "119386                     5       3  ...    No Deposit    9.0     NaN   \n",
       "119387                     5       2  ...    No Deposit    9.0     NaN   \n",
       "119388                     5       2  ...    No Deposit   89.0     NaN   \n",
       "119389                     7       2  ...    No Deposit    9.0     NaN   \n",
       "\n",
       "       days_in_waiting_list customer_type     adr  \\\n",
       "0                         0     Transient    0.00   \n",
       "1                         0     Transient    0.00   \n",
       "2                         0     Transient   75.00   \n",
       "3                         0     Transient   75.00   \n",
       "4                         0     Transient   98.00   \n",
       "...                     ...           ...     ...   \n",
       "119385                    0     Transient   96.14   \n",
       "119386                    0     Transient  225.43   \n",
       "119387                    0     Transient  157.71   \n",
       "119388                    0     Transient  104.40   \n",
       "119389                    0     Transient  151.20   \n",
       "\n",
       "        required_car_parking_spaces  total_of_special_requests  \\\n",
       "0                                 0                          0   \n",
       "1                                 0                          0   \n",
       "2                                 0                          0   \n",
       "3                                 0                          0   \n",
       "4                                 0                          1   \n",
       "...                             ...                        ...   \n",
       "119385                            0                          0   \n",
       "119386                            0                          2   \n",
       "119387                            0                          4   \n",
       "119388                            0                          0   \n",
       "119389                            0                          2   \n",
       "\n",
       "        reservation_status reservation_status_date  \n",
       "0                Check-Out              2015-07-01  \n",
       "1                Check-Out              2015-07-01  \n",
       "2                Check-Out              2015-07-02  \n",
       "3                Check-Out              2015-07-02  \n",
       "4                Check-Out              2015-07-03  \n",
       "...                    ...                     ...  \n",
       "119385           Check-Out              2017-09-06  \n",
       "119386           Check-Out              2017-09-07  \n",
       "119387           Check-Out              2017-09-07  \n",
       "119388           Check-Out              2017-09-07  \n",
       "119389           Check-Out              2017-09-07  \n",
       "\n",
       "[119390 rows x 32 columns]"
      ],
      "text/html": "<div>\n<style scoped>\n    .dataframe tbody tr th:only-of-type {\n        vertical-align: middle;\n    }\n\n    .dataframe tbody tr th {\n        vertical-align: top;\n    }\n\n    .dataframe thead th {\n        text-align: right;\n    }\n</style>\n<table border=\"1\" class=\"dataframe\">\n  <thead>\n    <tr style=\"text-align: right;\">\n      <th></th>\n      <th>hotel</th>\n      <th>is_canceled</th>\n      <th>lead_time</th>\n      <th>arrival_date_year</th>\n      <th>arrival_date_month</th>\n      <th>arrival_date_week_number</th>\n      <th>arrival_date_day_of_month</th>\n      <th>stays_in_weekend_nights</th>\n      <th>stays_in_week_nights</th>\n      <th>adults</th>\n      <th>...</th>\n      <th>deposit_type</th>\n      <th>agent</th>\n      <th>company</th>\n      <th>days_in_waiting_list</th>\n      <th>customer_type</th>\n      <th>adr</th>\n      <th>required_car_parking_spaces</th>\n      <th>total_of_special_requests</th>\n      <th>reservation_status</th>\n      <th>reservation_status_date</th>\n    </tr>\n  </thead>\n  <tbody>\n    <tr>\n      <th>0</th>\n      <td>Resort Hotel</td>\n      <td>0</td>\n      <td>342</td>\n      <td>2015</td>\n      <td>July</td>\n      <td>27</td>\n      <td>1</td>\n      <td>0</td>\n      <td>0</td>\n      <td>2</td>\n      <td>...</td>\n      <td>No Deposit</td>\n      <td>NaN</td>\n      <td>NaN</td>\n      <td>0</td>\n      <td>Transient</td>\n      <td>0.00</td>\n      <td>0</td>\n      <td>0</td>\n      <td>Check-Out</td>\n      <td>2015-07-01</td>\n    </tr>\n    <tr>\n      <th>1</th>\n      <td>Resort Hotel</td>\n      <td>0</td>\n      <td>737</td>\n      <td>2015</td>\n      <td>July</td>\n      <td>27</td>\n      <td>1</td>\n      <td>0</td>\n      <td>0</td>\n      <td>2</td>\n      <td>...</td>\n      <td>No Deposit</td>\n      <td>NaN</td>\n      <td>NaN</td>\n      <td>0</td>\n      <td>Transient</td>\n      <td>0.00</td>\n      <td>0</td>\n      <td>0</td>\n      <td>Check-Out</td>\n      <td>2015-07-01</td>\n    </tr>\n    <tr>\n      <th>2</th>\n      <td>Resort Hotel</td>\n      <td>0</td>\n      <td>7</td>\n      <td>2015</td>\n      <td>July</td>\n      <td>27</td>\n      <td>1</td>\n      <td>0</td>\n      <td>1</td>\n      <td>1</td>\n      <td>...</td>\n      <td>No Deposit</td>\n      <td>NaN</td>\n      <td>NaN</td>\n      <td>0</td>\n      <td>Transient</td>\n      <td>75.00</td>\n      <td>0</td>\n      <td>0</td>\n      <td>Check-Out</td>\n      <td>2015-07-02</td>\n    </tr>\n    <tr>\n      <th>3</th>\n      <td>Resort Hotel</td>\n      <td>0</td>\n      <td>13</td>\n      <td>2015</td>\n      <td>July</td>\n      <td>27</td>\n      <td>1</td>\n      <td>0</td>\n      <td>1</td>\n      <td>1</td>\n      <td>...</td>\n      <td>No Deposit</td>\n      <td>304.0</td>\n      <td>NaN</td>\n      <td>0</td>\n      <td>Transient</td>\n      <td>75.00</td>\n      <td>0</td>\n      <td>0</td>\n      <td>Check-Out</td>\n      <td>2015-07-02</td>\n    </tr>\n    <tr>\n      <th>4</th>\n      <td>Resort Hotel</td>\n      <td>0</td>\n      <td>14</td>\n      <td>2015</td>\n      <td>July</td>\n      <td>27</td>\n      <td>1</td>\n      <td>0</td>\n      <td>2</td>\n      <td>2</td>\n      <td>...</td>\n      <td>No Deposit</td>\n      <td>240.0</td>\n      <td>NaN</td>\n      <td>0</td>\n      <td>Transient</td>\n      <td>98.00</td>\n      <td>0</td>\n      <td>1</td>\n      <td>Check-Out</td>\n      <td>2015-07-03</td>\n    </tr>\n    <tr>\n      <th>...</th>\n      <td>...</td>\n      <td>...</td>\n      <td>...</td>\n      <td>...</td>\n      <td>...</td>\n      <td>...</td>\n      <td>...</td>\n      <td>...</td>\n      <td>...</td>\n      <td>...</td>\n      <td>...</td>\n      <td>...</td>\n      <td>...</td>\n      <td>...</td>\n      <td>...</td>\n      <td>...</td>\n      <td>...</td>\n      <td>...</td>\n      <td>...</td>\n      <td>...</td>\n      <td>...</td>\n    </tr>\n    <tr>\n      <th>119385</th>\n      <td>City Hotel</td>\n      <td>0</td>\n      <td>23</td>\n      <td>2017</td>\n      <td>August</td>\n      <td>35</td>\n      <td>30</td>\n      <td>2</td>\n      <td>5</td>\n      <td>2</td>\n      <td>...</td>\n      <td>No Deposit</td>\n      <td>394.0</td>\n      <td>NaN</td>\n      <td>0</td>\n      <td>Transient</td>\n      <td>96.14</td>\n      <td>0</td>\n      <td>0</td>\n      <td>Check-Out</td>\n      <td>2017-09-06</td>\n    </tr>\n    <tr>\n      <th>119386</th>\n      <td>City Hotel</td>\n      <td>0</td>\n      <td>102</td>\n      <td>2017</td>\n      <td>August</td>\n      <td>35</td>\n      <td>31</td>\n      <td>2</td>\n      <td>5</td>\n      <td>3</td>\n      <td>...</td>\n      <td>No Deposit</td>\n      <td>9.0</td>\n      <td>NaN</td>\n      <td>0</td>\n      <td>Transient</td>\n      <td>225.43</td>\n      <td>0</td>\n      <td>2</td>\n      <td>Check-Out</td>\n      <td>2017-09-07</td>\n    </tr>\n    <tr>\n      <th>119387</th>\n      <td>City Hotel</td>\n      <td>0</td>\n      <td>34</td>\n      <td>2017</td>\n      <td>August</td>\n      <td>35</td>\n      <td>31</td>\n      <td>2</td>\n      <td>5</td>\n      <td>2</td>\n      <td>...</td>\n      <td>No Deposit</td>\n      <td>9.0</td>\n      <td>NaN</td>\n      <td>0</td>\n      <td>Transient</td>\n      <td>157.71</td>\n      <td>0</td>\n      <td>4</td>\n      <td>Check-Out</td>\n      <td>2017-09-07</td>\n    </tr>\n    <tr>\n      <th>119388</th>\n      <td>City Hotel</td>\n      <td>0</td>\n      <td>109</td>\n      <td>2017</td>\n      <td>August</td>\n      <td>35</td>\n      <td>31</td>\n      <td>2</td>\n      <td>5</td>\n      <td>2</td>\n      <td>...</td>\n      <td>No Deposit</td>\n      <td>89.0</td>\n      <td>NaN</td>\n      <td>0</td>\n      <td>Transient</td>\n      <td>104.40</td>\n      <td>0</td>\n      <td>0</td>\n      <td>Check-Out</td>\n      <td>2017-09-07</td>\n    </tr>\n    <tr>\n      <th>119389</th>\n      <td>City Hotel</td>\n      <td>0</td>\n      <td>205</td>\n      <td>2017</td>\n      <td>August</td>\n      <td>35</td>\n      <td>29</td>\n      <td>2</td>\n      <td>7</td>\n      <td>2</td>\n      <td>...</td>\n      <td>No Deposit</td>\n      <td>9.0</td>\n      <td>NaN</td>\n      <td>0</td>\n      <td>Transient</td>\n      <td>151.20</td>\n      <td>0</td>\n      <td>2</td>\n      <td>Check-Out</td>\n      <td>2017-09-07</td>\n    </tr>\n  </tbody>\n</table>\n<p>119390 rows × 32 columns</p>\n</div>"
     },
     "metadata": {},
     "execution_count": 46
    }
   ],
   "source": [
    "data_hotel = pd.read_csv(\"dataset/hotel.csv\")\n",
    "data_hotel"
   ]
  },
  {
   "source": [
    "## memeriksa properti data"
   ],
   "cell_type": "markdown",
   "metadata": {}
  },
  {
   "cell_type": "code",
   "execution_count": 47,
   "metadata": {},
   "outputs": [
    {
     "output_type": "execute_result",
     "data": {
      "text/plain": [
       "hotel                              object\n",
       "is_canceled                         int64\n",
       "lead_time                           int64\n",
       "arrival_date_year                   int64\n",
       "arrival_date_month                 object\n",
       "arrival_date_week_number            int64\n",
       "arrival_date_day_of_month           int64\n",
       "stays_in_weekend_nights             int64\n",
       "stays_in_week_nights                int64\n",
       "adults                              int64\n",
       "children                          float64\n",
       "babies                              int64\n",
       "meal                               object\n",
       "country                            object\n",
       "market_segment                     object\n",
       "distribution_channel               object\n",
       "is_repeated_guest                   int64\n",
       "previous_cancellations              int64\n",
       "previous_bookings_not_canceled      int64\n",
       "reserved_room_type                 object\n",
       "assigned_room_type                 object\n",
       "booking_changes                     int64\n",
       "deposit_type                       object\n",
       "agent                             float64\n",
       "company                           float64\n",
       "days_in_waiting_list                int64\n",
       "customer_type                      object\n",
       "adr                               float64\n",
       "required_car_parking_spaces         int64\n",
       "total_of_special_requests           int64\n",
       "reservation_status                 object\n",
       "reservation_status_date            object\n",
       "dtype: object"
      ]
     },
     "metadata": {},
     "execution_count": 47
    }
   ],
   "source": [
    "data_hotel.dtypes"
   ]
  },
  {
   "source": [
    "## menampilkan total data, rata - rata, median dan sebagainya"
   ],
   "cell_type": "markdown",
   "metadata": {}
  },
  {
   "cell_type": "code",
   "execution_count": 48,
   "metadata": {},
   "outputs": [
    {
     "output_type": "execute_result",
     "data": {
      "text/plain": [
       "             hotel    is_canceled      lead_time  arrival_date_year  \\\n",
       "count       119390  119390.000000  119390.000000      119390.000000   \n",
       "unique           2            NaN            NaN                NaN   \n",
       "top     City Hotel            NaN            NaN                NaN   \n",
       "freq         79330            NaN            NaN                NaN   \n",
       "mean           NaN       0.370416     104.011416        2016.156554   \n",
       "std            NaN       0.482918     106.863097           0.707476   \n",
       "min            NaN       0.000000       0.000000        2015.000000   \n",
       "25%            NaN       0.000000      18.000000        2016.000000   \n",
       "50%            NaN       0.000000      69.000000        2016.000000   \n",
       "75%            NaN       1.000000     160.000000        2017.000000   \n",
       "max            NaN       1.000000     737.000000        2017.000000   \n",
       "\n",
       "       arrival_date_month  arrival_date_week_number  \\\n",
       "count              119390             119390.000000   \n",
       "unique                 12                       NaN   \n",
       "top                August                       NaN   \n",
       "freq                13877                       NaN   \n",
       "mean                  NaN                 27.165173   \n",
       "std                   NaN                 13.605138   \n",
       "min                   NaN                  1.000000   \n",
       "25%                   NaN                 16.000000   \n",
       "50%                   NaN                 28.000000   \n",
       "75%                   NaN                 38.000000   \n",
       "max                   NaN                 53.000000   \n",
       "\n",
       "        arrival_date_day_of_month  stays_in_weekend_nights  \\\n",
       "count               119390.000000            119390.000000   \n",
       "unique                        NaN                      NaN   \n",
       "top                           NaN                      NaN   \n",
       "freq                          NaN                      NaN   \n",
       "mean                    15.798241                 0.927599   \n",
       "std                      8.780829                 0.998613   \n",
       "min                      1.000000                 0.000000   \n",
       "25%                      8.000000                 0.000000   \n",
       "50%                     16.000000                 1.000000   \n",
       "75%                     23.000000                 2.000000   \n",
       "max                     31.000000                19.000000   \n",
       "\n",
       "        stays_in_week_nights         adults  ...  deposit_type          agent  \\\n",
       "count          119390.000000  119390.000000  ...        119390  103050.000000   \n",
       "unique                   NaN            NaN  ...             3            NaN   \n",
       "top                      NaN            NaN  ...    No Deposit            NaN   \n",
       "freq                     NaN            NaN  ...        104641            NaN   \n",
       "mean                2.500302       1.856403  ...           NaN      86.693382   \n",
       "std                 1.908286       0.579261  ...           NaN     110.774548   \n",
       "min                 0.000000       0.000000  ...           NaN       1.000000   \n",
       "25%                 1.000000       2.000000  ...           NaN       9.000000   \n",
       "50%                 2.000000       2.000000  ...           NaN      14.000000   \n",
       "75%                 3.000000       2.000000  ...           NaN     229.000000   \n",
       "max                50.000000      55.000000  ...           NaN     535.000000   \n",
       "\n",
       "            company days_in_waiting_list customer_type            adr  \\\n",
       "count   6797.000000        119390.000000        119390  119390.000000   \n",
       "unique          NaN                  NaN             4            NaN   \n",
       "top             NaN                  NaN     Transient            NaN   \n",
       "freq            NaN                  NaN         89613            NaN   \n",
       "mean     189.266735             2.321149           NaN     101.831122   \n",
       "std      131.655015            17.594721           NaN      50.535790   \n",
       "min        6.000000             0.000000           NaN      -6.380000   \n",
       "25%       62.000000             0.000000           NaN      69.290000   \n",
       "50%      179.000000             0.000000           NaN      94.575000   \n",
       "75%      270.000000             0.000000           NaN     126.000000   \n",
       "max      543.000000           391.000000           NaN    5400.000000   \n",
       "\n",
       "        required_car_parking_spaces  total_of_special_requests  \\\n",
       "count                 119390.000000              119390.000000   \n",
       "unique                          NaN                        NaN   \n",
       "top                             NaN                        NaN   \n",
       "freq                            NaN                        NaN   \n",
       "mean                       0.062518                   0.571363   \n",
       "std                        0.245291                   0.792798   \n",
       "min                        0.000000                   0.000000   \n",
       "25%                        0.000000                   0.000000   \n",
       "50%                        0.000000                   0.000000   \n",
       "75%                        0.000000                   1.000000   \n",
       "max                        8.000000                   5.000000   \n",
       "\n",
       "        reservation_status reservation_status_date  \n",
       "count               119390                  119390  \n",
       "unique                   3                     926  \n",
       "top              Check-Out              2015-10-21  \n",
       "freq                 75166                    1461  \n",
       "mean                   NaN                     NaN  \n",
       "std                    NaN                     NaN  \n",
       "min                    NaN                     NaN  \n",
       "25%                    NaN                     NaN  \n",
       "50%                    NaN                     NaN  \n",
       "75%                    NaN                     NaN  \n",
       "max                    NaN                     NaN  \n",
       "\n",
       "[11 rows x 32 columns]"
      ],
      "text/html": "<div>\n<style scoped>\n    .dataframe tbody tr th:only-of-type {\n        vertical-align: middle;\n    }\n\n    .dataframe tbody tr th {\n        vertical-align: top;\n    }\n\n    .dataframe thead th {\n        text-align: right;\n    }\n</style>\n<table border=\"1\" class=\"dataframe\">\n  <thead>\n    <tr style=\"text-align: right;\">\n      <th></th>\n      <th>hotel</th>\n      <th>is_canceled</th>\n      <th>lead_time</th>\n      <th>arrival_date_year</th>\n      <th>arrival_date_month</th>\n      <th>arrival_date_week_number</th>\n      <th>arrival_date_day_of_month</th>\n      <th>stays_in_weekend_nights</th>\n      <th>stays_in_week_nights</th>\n      <th>adults</th>\n      <th>...</th>\n      <th>deposit_type</th>\n      <th>agent</th>\n      <th>company</th>\n      <th>days_in_waiting_list</th>\n      <th>customer_type</th>\n      <th>adr</th>\n      <th>required_car_parking_spaces</th>\n      <th>total_of_special_requests</th>\n      <th>reservation_status</th>\n      <th>reservation_status_date</th>\n    </tr>\n  </thead>\n  <tbody>\n    <tr>\n      <th>count</th>\n      <td>119390</td>\n      <td>119390.000000</td>\n      <td>119390.000000</td>\n      <td>119390.000000</td>\n      <td>119390</td>\n      <td>119390.000000</td>\n      <td>119390.000000</td>\n      <td>119390.000000</td>\n      <td>119390.000000</td>\n      <td>119390.000000</td>\n      <td>...</td>\n      <td>119390</td>\n      <td>103050.000000</td>\n      <td>6797.000000</td>\n      <td>119390.000000</td>\n      <td>119390</td>\n      <td>119390.000000</td>\n      <td>119390.000000</td>\n      <td>119390.000000</td>\n      <td>119390</td>\n      <td>119390</td>\n    </tr>\n    <tr>\n      <th>unique</th>\n      <td>2</td>\n      <td>NaN</td>\n      <td>NaN</td>\n      <td>NaN</td>\n      <td>12</td>\n      <td>NaN</td>\n      <td>NaN</td>\n      <td>NaN</td>\n      <td>NaN</td>\n      <td>NaN</td>\n      <td>...</td>\n      <td>3</td>\n      <td>NaN</td>\n      <td>NaN</td>\n      <td>NaN</td>\n      <td>4</td>\n      <td>NaN</td>\n      <td>NaN</td>\n      <td>NaN</td>\n      <td>3</td>\n      <td>926</td>\n    </tr>\n    <tr>\n      <th>top</th>\n      <td>City Hotel</td>\n      <td>NaN</td>\n      <td>NaN</td>\n      <td>NaN</td>\n      <td>August</td>\n      <td>NaN</td>\n      <td>NaN</td>\n      <td>NaN</td>\n      <td>NaN</td>\n      <td>NaN</td>\n      <td>...</td>\n      <td>No Deposit</td>\n      <td>NaN</td>\n      <td>NaN</td>\n      <td>NaN</td>\n      <td>Transient</td>\n      <td>NaN</td>\n      <td>NaN</td>\n      <td>NaN</td>\n      <td>Check-Out</td>\n      <td>2015-10-21</td>\n    </tr>\n    <tr>\n      <th>freq</th>\n      <td>79330</td>\n      <td>NaN</td>\n      <td>NaN</td>\n      <td>NaN</td>\n      <td>13877</td>\n      <td>NaN</td>\n      <td>NaN</td>\n      <td>NaN</td>\n      <td>NaN</td>\n      <td>NaN</td>\n      <td>...</td>\n      <td>104641</td>\n      <td>NaN</td>\n      <td>NaN</td>\n      <td>NaN</td>\n      <td>89613</td>\n      <td>NaN</td>\n      <td>NaN</td>\n      <td>NaN</td>\n      <td>75166</td>\n      <td>1461</td>\n    </tr>\n    <tr>\n      <th>mean</th>\n      <td>NaN</td>\n      <td>0.370416</td>\n      <td>104.011416</td>\n      <td>2016.156554</td>\n      <td>NaN</td>\n      <td>27.165173</td>\n      <td>15.798241</td>\n      <td>0.927599</td>\n      <td>2.500302</td>\n      <td>1.856403</td>\n      <td>...</td>\n      <td>NaN</td>\n      <td>86.693382</td>\n      <td>189.266735</td>\n      <td>2.321149</td>\n      <td>NaN</td>\n      <td>101.831122</td>\n      <td>0.062518</td>\n      <td>0.571363</td>\n      <td>NaN</td>\n      <td>NaN</td>\n    </tr>\n    <tr>\n      <th>std</th>\n      <td>NaN</td>\n      <td>0.482918</td>\n      <td>106.863097</td>\n      <td>0.707476</td>\n      <td>NaN</td>\n      <td>13.605138</td>\n      <td>8.780829</td>\n      <td>0.998613</td>\n      <td>1.908286</td>\n      <td>0.579261</td>\n      <td>...</td>\n      <td>NaN</td>\n      <td>110.774548</td>\n      <td>131.655015</td>\n      <td>17.594721</td>\n      <td>NaN</td>\n      <td>50.535790</td>\n      <td>0.245291</td>\n      <td>0.792798</td>\n      <td>NaN</td>\n      <td>NaN</td>\n    </tr>\n    <tr>\n      <th>min</th>\n      <td>NaN</td>\n      <td>0.000000</td>\n      <td>0.000000</td>\n      <td>2015.000000</td>\n      <td>NaN</td>\n      <td>1.000000</td>\n      <td>1.000000</td>\n      <td>0.000000</td>\n      <td>0.000000</td>\n      <td>0.000000</td>\n      <td>...</td>\n      <td>NaN</td>\n      <td>1.000000</td>\n      <td>6.000000</td>\n      <td>0.000000</td>\n      <td>NaN</td>\n      <td>-6.380000</td>\n      <td>0.000000</td>\n      <td>0.000000</td>\n      <td>NaN</td>\n      <td>NaN</td>\n    </tr>\n    <tr>\n      <th>25%</th>\n      <td>NaN</td>\n      <td>0.000000</td>\n      <td>18.000000</td>\n      <td>2016.000000</td>\n      <td>NaN</td>\n      <td>16.000000</td>\n      <td>8.000000</td>\n      <td>0.000000</td>\n      <td>1.000000</td>\n      <td>2.000000</td>\n      <td>...</td>\n      <td>NaN</td>\n      <td>9.000000</td>\n      <td>62.000000</td>\n      <td>0.000000</td>\n      <td>NaN</td>\n      <td>69.290000</td>\n      <td>0.000000</td>\n      <td>0.000000</td>\n      <td>NaN</td>\n      <td>NaN</td>\n    </tr>\n    <tr>\n      <th>50%</th>\n      <td>NaN</td>\n      <td>0.000000</td>\n      <td>69.000000</td>\n      <td>2016.000000</td>\n      <td>NaN</td>\n      <td>28.000000</td>\n      <td>16.000000</td>\n      <td>1.000000</td>\n      <td>2.000000</td>\n      <td>2.000000</td>\n      <td>...</td>\n      <td>NaN</td>\n      <td>14.000000</td>\n      <td>179.000000</td>\n      <td>0.000000</td>\n      <td>NaN</td>\n      <td>94.575000</td>\n      <td>0.000000</td>\n      <td>0.000000</td>\n      <td>NaN</td>\n      <td>NaN</td>\n    </tr>\n    <tr>\n      <th>75%</th>\n      <td>NaN</td>\n      <td>1.000000</td>\n      <td>160.000000</td>\n      <td>2017.000000</td>\n      <td>NaN</td>\n      <td>38.000000</td>\n      <td>23.000000</td>\n      <td>2.000000</td>\n      <td>3.000000</td>\n      <td>2.000000</td>\n      <td>...</td>\n      <td>NaN</td>\n      <td>229.000000</td>\n      <td>270.000000</td>\n      <td>0.000000</td>\n      <td>NaN</td>\n      <td>126.000000</td>\n      <td>0.000000</td>\n      <td>1.000000</td>\n      <td>NaN</td>\n      <td>NaN</td>\n    </tr>\n    <tr>\n      <th>max</th>\n      <td>NaN</td>\n      <td>1.000000</td>\n      <td>737.000000</td>\n      <td>2017.000000</td>\n      <td>NaN</td>\n      <td>53.000000</td>\n      <td>31.000000</td>\n      <td>19.000000</td>\n      <td>50.000000</td>\n      <td>55.000000</td>\n      <td>...</td>\n      <td>NaN</td>\n      <td>535.000000</td>\n      <td>543.000000</td>\n      <td>391.000000</td>\n      <td>NaN</td>\n      <td>5400.000000</td>\n      <td>8.000000</td>\n      <td>5.000000</td>\n      <td>NaN</td>\n      <td>NaN</td>\n    </tr>\n  </tbody>\n</table>\n<p>11 rows × 32 columns</p>\n</div>"
     },
     "metadata": {},
     "execution_count": 48
    }
   ],
   "source": [
    "data_hotel.describe(include='all')"
   ]
  },
  {
   "source": [
    "# menghitung total data minimum dan maximum"
   ],
   "cell_type": "markdown",
   "metadata": {}
  },
  {
   "cell_type": "code",
   "execution_count": 49,
   "metadata": {
    "tags": []
   },
   "outputs": [
    {
     "output_type": "stream",
     "name": "stdout",
     "text": [
      "is_canceled\n\t minimum :  75166\n\t maximum :  44224\nlead_time\n\t minimum :  6345\n\t maximum :  1\narrival_date_year\n\t minimum :  21996\n\t maximum :  40687\narrival_date_week_number\n\t minimum :  1047\n\t maximum :  1816\narrival_date_day_of_month\n\t minimum :  3626\n\t maximum :  2208\nstays_in_weekend_nights\n\t minimum :  51998\n\t maximum :  1\nstays_in_week_nights\n\t minimum :  7645\n\t maximum :  1\nadults\n\t minimum :  403\n\t maximum :  1\nbabies\n\t minimum :  118473\n\t maximum :  1\nis_repeated_guest\n\t minimum :  115580\n\t maximum :  3810\nprevious_cancellations\n\t minimum :  112906\n\t maximum :  26\nprevious_bookings_not_canceled\n\t minimum :  115770\n\t maximum :  1\nbooking_changes\n\t minimum :  101314\n\t maximum :  1\ndays_in_waiting_list\n\t minimum :  115692\n\t maximum :  45\nrequired_car_parking_spaces\n\t minimum :  111974\n\t maximum :  2\ntotal_of_special_requests\n\t minimum :  70318\n\t maximum :  40\n"
     ]
    }
   ],
   "source": [
    "\n",
    "for column in data_hotel:\n",
    "    if data_hotel[column].dtypes==\"int64\":\n",
    "        print(column)\n",
    "        print(\"\\t minimum : \",data_hotel[column].loc[data_hotel[column]==data_hotel[column].min()].shape[0])\n",
    "        print(\"\\t maximum : \",data_hotel[column].loc[data_hotel[column]==data_hotel[column].max()].shape[0])\n",
    "        \n"
   ]
  },
  {
   "source": [
    "## menghapus data yang percentase kosong lebih dari 50%"
   ],
   "cell_type": "markdown",
   "metadata": {}
  },
  {
   "source": [
    "### check data kosong berdasarkan percentase"
   ],
   "cell_type": "markdown",
   "metadata": {}
  },
  {
   "cell_type": "code",
   "execution_count": 50,
   "metadata": {},
   "outputs": [
    {
     "output_type": "execute_result",
     "data": {
      "text/plain": [
       "hotel                              0.000000\n",
       "is_canceled                        0.000000\n",
       "lead_time                          0.000000\n",
       "arrival_date_year                  0.000000\n",
       "arrival_date_month                 0.000000\n",
       "arrival_date_week_number           0.000000\n",
       "arrival_date_day_of_month          0.000000\n",
       "stays_in_weekend_nights            0.000000\n",
       "stays_in_week_nights               0.000000\n",
       "adults                             0.000000\n",
       "children                           0.003350\n",
       "babies                             0.000000\n",
       "meal                               0.000000\n",
       "country                            0.408744\n",
       "market_segment                     0.000000\n",
       "distribution_channel               0.000000\n",
       "is_repeated_guest                  0.000000\n",
       "previous_cancellations             0.000000\n",
       "previous_bookings_not_canceled     0.000000\n",
       "reserved_room_type                 0.000000\n",
       "assigned_room_type                 0.000000\n",
       "booking_changes                    0.000000\n",
       "deposit_type                       0.000000\n",
       "agent                             13.686238\n",
       "company                           94.306893\n",
       "days_in_waiting_list               0.000000\n",
       "customer_type                      0.000000\n",
       "adr                                0.000000\n",
       "required_car_parking_spaces        0.000000\n",
       "total_of_special_requests          0.000000\n",
       "reservation_status                 0.000000\n",
       "reservation_status_date            0.000000\n",
       "dtype: float64"
      ]
     },
     "metadata": {},
     "execution_count": 50
    }
   ],
   "source": [
    "data_hotel.isna().sum()/data_hotel.shape[0]*100 #mencari data yang kosong berdasarkan persentase \n"
   ]
  },
  {
   "source": [
    "### drop data company karena memiliki data kosong lebih dari 50 %\n"
   ],
   "cell_type": "markdown",
   "metadata": {}
  },
  {
   "cell_type": "code",
   "execution_count": 51,
   "metadata": {},
   "outputs": [
    {
     "output_type": "execute_result",
     "data": {
      "text/plain": [
       "               hotel  is_canceled  lead_time  arrival_date_year  \\\n",
       "0       Resort Hotel            0        342               2015   \n",
       "1       Resort Hotel            0        737               2015   \n",
       "2       Resort Hotel            0          7               2015   \n",
       "3       Resort Hotel            0         13               2015   \n",
       "4       Resort Hotel            0         14               2015   \n",
       "...              ...          ...        ...                ...   \n",
       "119385    City Hotel            0         23               2017   \n",
       "119386    City Hotel            0        102               2017   \n",
       "119387    City Hotel            0         34               2017   \n",
       "119388    City Hotel            0        109               2017   \n",
       "119389    City Hotel            0        205               2017   \n",
       "\n",
       "       arrival_date_month  arrival_date_week_number  \\\n",
       "0                    July                        27   \n",
       "1                    July                        27   \n",
       "2                    July                        27   \n",
       "3                    July                        27   \n",
       "4                    July                        27   \n",
       "...                   ...                       ...   \n",
       "119385             August                        35   \n",
       "119386             August                        35   \n",
       "119387             August                        35   \n",
       "119388             August                        35   \n",
       "119389             August                        35   \n",
       "\n",
       "        arrival_date_day_of_month  stays_in_weekend_nights  \\\n",
       "0                               1                        0   \n",
       "1                               1                        0   \n",
       "2                               1                        0   \n",
       "3                               1                        0   \n",
       "4                               1                        0   \n",
       "...                           ...                      ...   \n",
       "119385                         30                        2   \n",
       "119386                         31                        2   \n",
       "119387                         31                        2   \n",
       "119388                         31                        2   \n",
       "119389                         29                        2   \n",
       "\n",
       "        stays_in_week_nights  adults  ...  booking_changes  deposit_type  \\\n",
       "0                          0       2  ...                3    No Deposit   \n",
       "1                          0       2  ...                4    No Deposit   \n",
       "2                          1       1  ...                0    No Deposit   \n",
       "3                          1       1  ...                0    No Deposit   \n",
       "4                          2       2  ...                0    No Deposit   \n",
       "...                      ...     ...  ...              ...           ...   \n",
       "119385                     5       2  ...                0    No Deposit   \n",
       "119386                     5       3  ...                0    No Deposit   \n",
       "119387                     5       2  ...                0    No Deposit   \n",
       "119388                     5       2  ...                0    No Deposit   \n",
       "119389                     7       2  ...                0    No Deposit   \n",
       "\n",
       "        agent days_in_waiting_list customer_type     adr  \\\n",
       "0         NaN                    0     Transient    0.00   \n",
       "1         NaN                    0     Transient    0.00   \n",
       "2         NaN                    0     Transient   75.00   \n",
       "3       304.0                    0     Transient   75.00   \n",
       "4       240.0                    0     Transient   98.00   \n",
       "...       ...                  ...           ...     ...   \n",
       "119385  394.0                    0     Transient   96.14   \n",
       "119386    9.0                    0     Transient  225.43   \n",
       "119387    9.0                    0     Transient  157.71   \n",
       "119388   89.0                    0     Transient  104.40   \n",
       "119389    9.0                    0     Transient  151.20   \n",
       "\n",
       "        required_car_parking_spaces  total_of_special_requests  \\\n",
       "0                                 0                          0   \n",
       "1                                 0                          0   \n",
       "2                                 0                          0   \n",
       "3                                 0                          0   \n",
       "4                                 0                          1   \n",
       "...                             ...                        ...   \n",
       "119385                            0                          0   \n",
       "119386                            0                          2   \n",
       "119387                            0                          4   \n",
       "119388                            0                          0   \n",
       "119389                            0                          2   \n",
       "\n",
       "        reservation_status reservation_status_date  \n",
       "0                Check-Out              2015-07-01  \n",
       "1                Check-Out              2015-07-01  \n",
       "2                Check-Out              2015-07-02  \n",
       "3                Check-Out              2015-07-02  \n",
       "4                Check-Out              2015-07-03  \n",
       "...                    ...                     ...  \n",
       "119385           Check-Out              2017-09-06  \n",
       "119386           Check-Out              2017-09-07  \n",
       "119387           Check-Out              2017-09-07  \n",
       "119388           Check-Out              2017-09-07  \n",
       "119389           Check-Out              2017-09-07  \n",
       "\n",
       "[119390 rows x 31 columns]"
      ],
      "text/html": "<div>\n<style scoped>\n    .dataframe tbody tr th:only-of-type {\n        vertical-align: middle;\n    }\n\n    .dataframe tbody tr th {\n        vertical-align: top;\n    }\n\n    .dataframe thead th {\n        text-align: right;\n    }\n</style>\n<table border=\"1\" class=\"dataframe\">\n  <thead>\n    <tr style=\"text-align: right;\">\n      <th></th>\n      <th>hotel</th>\n      <th>is_canceled</th>\n      <th>lead_time</th>\n      <th>arrival_date_year</th>\n      <th>arrival_date_month</th>\n      <th>arrival_date_week_number</th>\n      <th>arrival_date_day_of_month</th>\n      <th>stays_in_weekend_nights</th>\n      <th>stays_in_week_nights</th>\n      <th>adults</th>\n      <th>...</th>\n      <th>booking_changes</th>\n      <th>deposit_type</th>\n      <th>agent</th>\n      <th>days_in_waiting_list</th>\n      <th>customer_type</th>\n      <th>adr</th>\n      <th>required_car_parking_spaces</th>\n      <th>total_of_special_requests</th>\n      <th>reservation_status</th>\n      <th>reservation_status_date</th>\n    </tr>\n  </thead>\n  <tbody>\n    <tr>\n      <th>0</th>\n      <td>Resort Hotel</td>\n      <td>0</td>\n      <td>342</td>\n      <td>2015</td>\n      <td>July</td>\n      <td>27</td>\n      <td>1</td>\n      <td>0</td>\n      <td>0</td>\n      <td>2</td>\n      <td>...</td>\n      <td>3</td>\n      <td>No Deposit</td>\n      <td>NaN</td>\n      <td>0</td>\n      <td>Transient</td>\n      <td>0.00</td>\n      <td>0</td>\n      <td>0</td>\n      <td>Check-Out</td>\n      <td>2015-07-01</td>\n    </tr>\n    <tr>\n      <th>1</th>\n      <td>Resort Hotel</td>\n      <td>0</td>\n      <td>737</td>\n      <td>2015</td>\n      <td>July</td>\n      <td>27</td>\n      <td>1</td>\n      <td>0</td>\n      <td>0</td>\n      <td>2</td>\n      <td>...</td>\n      <td>4</td>\n      <td>No Deposit</td>\n      <td>NaN</td>\n      <td>0</td>\n      <td>Transient</td>\n      <td>0.00</td>\n      <td>0</td>\n      <td>0</td>\n      <td>Check-Out</td>\n      <td>2015-07-01</td>\n    </tr>\n    <tr>\n      <th>2</th>\n      <td>Resort Hotel</td>\n      <td>0</td>\n      <td>7</td>\n      <td>2015</td>\n      <td>July</td>\n      <td>27</td>\n      <td>1</td>\n      <td>0</td>\n      <td>1</td>\n      <td>1</td>\n      <td>...</td>\n      <td>0</td>\n      <td>No Deposit</td>\n      <td>NaN</td>\n      <td>0</td>\n      <td>Transient</td>\n      <td>75.00</td>\n      <td>0</td>\n      <td>0</td>\n      <td>Check-Out</td>\n      <td>2015-07-02</td>\n    </tr>\n    <tr>\n      <th>3</th>\n      <td>Resort Hotel</td>\n      <td>0</td>\n      <td>13</td>\n      <td>2015</td>\n      <td>July</td>\n      <td>27</td>\n      <td>1</td>\n      <td>0</td>\n      <td>1</td>\n      <td>1</td>\n      <td>...</td>\n      <td>0</td>\n      <td>No Deposit</td>\n      <td>304.0</td>\n      <td>0</td>\n      <td>Transient</td>\n      <td>75.00</td>\n      <td>0</td>\n      <td>0</td>\n      <td>Check-Out</td>\n      <td>2015-07-02</td>\n    </tr>\n    <tr>\n      <th>4</th>\n      <td>Resort Hotel</td>\n      <td>0</td>\n      <td>14</td>\n      <td>2015</td>\n      <td>July</td>\n      <td>27</td>\n      <td>1</td>\n      <td>0</td>\n      <td>2</td>\n      <td>2</td>\n      <td>...</td>\n      <td>0</td>\n      <td>No Deposit</td>\n      <td>240.0</td>\n      <td>0</td>\n      <td>Transient</td>\n      <td>98.00</td>\n      <td>0</td>\n      <td>1</td>\n      <td>Check-Out</td>\n      <td>2015-07-03</td>\n    </tr>\n    <tr>\n      <th>...</th>\n      <td>...</td>\n      <td>...</td>\n      <td>...</td>\n      <td>...</td>\n      <td>...</td>\n      <td>...</td>\n      <td>...</td>\n      <td>...</td>\n      <td>...</td>\n      <td>...</td>\n      <td>...</td>\n      <td>...</td>\n      <td>...</td>\n      <td>...</td>\n      <td>...</td>\n      <td>...</td>\n      <td>...</td>\n      <td>...</td>\n      <td>...</td>\n      <td>...</td>\n      <td>...</td>\n    </tr>\n    <tr>\n      <th>119385</th>\n      <td>City Hotel</td>\n      <td>0</td>\n      <td>23</td>\n      <td>2017</td>\n      <td>August</td>\n      <td>35</td>\n      <td>30</td>\n      <td>2</td>\n      <td>5</td>\n      <td>2</td>\n      <td>...</td>\n      <td>0</td>\n      <td>No Deposit</td>\n      <td>394.0</td>\n      <td>0</td>\n      <td>Transient</td>\n      <td>96.14</td>\n      <td>0</td>\n      <td>0</td>\n      <td>Check-Out</td>\n      <td>2017-09-06</td>\n    </tr>\n    <tr>\n      <th>119386</th>\n      <td>City Hotel</td>\n      <td>0</td>\n      <td>102</td>\n      <td>2017</td>\n      <td>August</td>\n      <td>35</td>\n      <td>31</td>\n      <td>2</td>\n      <td>5</td>\n      <td>3</td>\n      <td>...</td>\n      <td>0</td>\n      <td>No Deposit</td>\n      <td>9.0</td>\n      <td>0</td>\n      <td>Transient</td>\n      <td>225.43</td>\n      <td>0</td>\n      <td>2</td>\n      <td>Check-Out</td>\n      <td>2017-09-07</td>\n    </tr>\n    <tr>\n      <th>119387</th>\n      <td>City Hotel</td>\n      <td>0</td>\n      <td>34</td>\n      <td>2017</td>\n      <td>August</td>\n      <td>35</td>\n      <td>31</td>\n      <td>2</td>\n      <td>5</td>\n      <td>2</td>\n      <td>...</td>\n      <td>0</td>\n      <td>No Deposit</td>\n      <td>9.0</td>\n      <td>0</td>\n      <td>Transient</td>\n      <td>157.71</td>\n      <td>0</td>\n      <td>4</td>\n      <td>Check-Out</td>\n      <td>2017-09-07</td>\n    </tr>\n    <tr>\n      <th>119388</th>\n      <td>City Hotel</td>\n      <td>0</td>\n      <td>109</td>\n      <td>2017</td>\n      <td>August</td>\n      <td>35</td>\n      <td>31</td>\n      <td>2</td>\n      <td>5</td>\n      <td>2</td>\n      <td>...</td>\n      <td>0</td>\n      <td>No Deposit</td>\n      <td>89.0</td>\n      <td>0</td>\n      <td>Transient</td>\n      <td>104.40</td>\n      <td>0</td>\n      <td>0</td>\n      <td>Check-Out</td>\n      <td>2017-09-07</td>\n    </tr>\n    <tr>\n      <th>119389</th>\n      <td>City Hotel</td>\n      <td>0</td>\n      <td>205</td>\n      <td>2017</td>\n      <td>August</td>\n      <td>35</td>\n      <td>29</td>\n      <td>2</td>\n      <td>7</td>\n      <td>2</td>\n      <td>...</td>\n      <td>0</td>\n      <td>No Deposit</td>\n      <td>9.0</td>\n      <td>0</td>\n      <td>Transient</td>\n      <td>151.20</td>\n      <td>0</td>\n      <td>2</td>\n      <td>Check-Out</td>\n      <td>2017-09-07</td>\n    </tr>\n  </tbody>\n</table>\n<p>119390 rows × 31 columns</p>\n</div>"
     },
     "metadata": {},
     "execution_count": 51
    }
   ],
   "source": [
    "data_hotel = data_hotel.drop(['company'],axis=1)\n",
    "data_hotel"
   ]
  },
  {
   "source": [
    "## mengisi data agent dengan nilai rata - rata\n"
   ],
   "cell_type": "markdown",
   "metadata": {}
  },
  {
   "cell_type": "code",
   "execution_count": 52,
   "metadata": {},
   "outputs": [
    {
     "output_type": "execute_result",
     "data": {
      "text/plain": [
       "86.69338185346919"
      ]
     },
     "metadata": {},
     "execution_count": 52
    }
   ],
   "source": [
    "mean_agent =data_hotel['agent'].mean() #mencari rata column agent\n",
    "mean_agent"
   ]
  },
  {
   "cell_type": "code",
   "execution_count": 53,
   "metadata": {},
   "outputs": [
    {
     "output_type": "execute_result",
     "data": {
      "text/plain": [
       "               hotel  is_canceled  lead_time  arrival_date_year  \\\n",
       "0       Resort Hotel            0        342               2015   \n",
       "1       Resort Hotel            0        737               2015   \n",
       "2       Resort Hotel            0          7               2015   \n",
       "3       Resort Hotel            0         13               2015   \n",
       "4       Resort Hotel            0         14               2015   \n",
       "...              ...          ...        ...                ...   \n",
       "119385    City Hotel            0         23               2017   \n",
       "119386    City Hotel            0        102               2017   \n",
       "119387    City Hotel            0         34               2017   \n",
       "119388    City Hotel            0        109               2017   \n",
       "119389    City Hotel            0        205               2017   \n",
       "\n",
       "       arrival_date_month  arrival_date_week_number  \\\n",
       "0                    July                        27   \n",
       "1                    July                        27   \n",
       "2                    July                        27   \n",
       "3                    July                        27   \n",
       "4                    July                        27   \n",
       "...                   ...                       ...   \n",
       "119385             August                        35   \n",
       "119386             August                        35   \n",
       "119387             August                        35   \n",
       "119388             August                        35   \n",
       "119389             August                        35   \n",
       "\n",
       "        arrival_date_day_of_month  stays_in_weekend_nights  \\\n",
       "0                               1                        0   \n",
       "1                               1                        0   \n",
       "2                               1                        0   \n",
       "3                               1                        0   \n",
       "4                               1                        0   \n",
       "...                           ...                      ...   \n",
       "119385                         30                        2   \n",
       "119386                         31                        2   \n",
       "119387                         31                        2   \n",
       "119388                         31                        2   \n",
       "119389                         29                        2   \n",
       "\n",
       "        stays_in_week_nights  adults  ...  booking_changes  deposit_type  \\\n",
       "0                          0       2  ...                3    No Deposit   \n",
       "1                          0       2  ...                4    No Deposit   \n",
       "2                          1       1  ...                0    No Deposit   \n",
       "3                          1       1  ...                0    No Deposit   \n",
       "4                          2       2  ...                0    No Deposit   \n",
       "...                      ...     ...  ...              ...           ...   \n",
       "119385                     5       2  ...                0    No Deposit   \n",
       "119386                     5       3  ...                0    No Deposit   \n",
       "119387                     5       2  ...                0    No Deposit   \n",
       "119388                     5       2  ...                0    No Deposit   \n",
       "119389                     7       2  ...                0    No Deposit   \n",
       "\n",
       "             agent days_in_waiting_list customer_type     adr  \\\n",
       "0        86.693382                    0     Transient    0.00   \n",
       "1        86.693382                    0     Transient    0.00   \n",
       "2        86.693382                    0     Transient   75.00   \n",
       "3       304.000000                    0     Transient   75.00   \n",
       "4       240.000000                    0     Transient   98.00   \n",
       "...            ...                  ...           ...     ...   \n",
       "119385  394.000000                    0     Transient   96.14   \n",
       "119386    9.000000                    0     Transient  225.43   \n",
       "119387    9.000000                    0     Transient  157.71   \n",
       "119388   89.000000                    0     Transient  104.40   \n",
       "119389    9.000000                    0     Transient  151.20   \n",
       "\n",
       "        required_car_parking_spaces  total_of_special_requests  \\\n",
       "0                                 0                          0   \n",
       "1                                 0                          0   \n",
       "2                                 0                          0   \n",
       "3                                 0                          0   \n",
       "4                                 0                          1   \n",
       "...                             ...                        ...   \n",
       "119385                            0                          0   \n",
       "119386                            0                          2   \n",
       "119387                            0                          4   \n",
       "119388                            0                          0   \n",
       "119389                            0                          2   \n",
       "\n",
       "        reservation_status reservation_status_date  \n",
       "0                Check-Out              2015-07-01  \n",
       "1                Check-Out              2015-07-01  \n",
       "2                Check-Out              2015-07-02  \n",
       "3                Check-Out              2015-07-02  \n",
       "4                Check-Out              2015-07-03  \n",
       "...                    ...                     ...  \n",
       "119385           Check-Out              2017-09-06  \n",
       "119386           Check-Out              2017-09-07  \n",
       "119387           Check-Out              2017-09-07  \n",
       "119388           Check-Out              2017-09-07  \n",
       "119389           Check-Out              2017-09-07  \n",
       "\n",
       "[119390 rows x 31 columns]"
      ],
      "text/html": "<div>\n<style scoped>\n    .dataframe tbody tr th:only-of-type {\n        vertical-align: middle;\n    }\n\n    .dataframe tbody tr th {\n        vertical-align: top;\n    }\n\n    .dataframe thead th {\n        text-align: right;\n    }\n</style>\n<table border=\"1\" class=\"dataframe\">\n  <thead>\n    <tr style=\"text-align: right;\">\n      <th></th>\n      <th>hotel</th>\n      <th>is_canceled</th>\n      <th>lead_time</th>\n      <th>arrival_date_year</th>\n      <th>arrival_date_month</th>\n      <th>arrival_date_week_number</th>\n      <th>arrival_date_day_of_month</th>\n      <th>stays_in_weekend_nights</th>\n      <th>stays_in_week_nights</th>\n      <th>adults</th>\n      <th>...</th>\n      <th>booking_changes</th>\n      <th>deposit_type</th>\n      <th>agent</th>\n      <th>days_in_waiting_list</th>\n      <th>customer_type</th>\n      <th>adr</th>\n      <th>required_car_parking_spaces</th>\n      <th>total_of_special_requests</th>\n      <th>reservation_status</th>\n      <th>reservation_status_date</th>\n    </tr>\n  </thead>\n  <tbody>\n    <tr>\n      <th>0</th>\n      <td>Resort Hotel</td>\n      <td>0</td>\n      <td>342</td>\n      <td>2015</td>\n      <td>July</td>\n      <td>27</td>\n      <td>1</td>\n      <td>0</td>\n      <td>0</td>\n      <td>2</td>\n      <td>...</td>\n      <td>3</td>\n      <td>No Deposit</td>\n      <td>86.693382</td>\n      <td>0</td>\n      <td>Transient</td>\n      <td>0.00</td>\n      <td>0</td>\n      <td>0</td>\n      <td>Check-Out</td>\n      <td>2015-07-01</td>\n    </tr>\n    <tr>\n      <th>1</th>\n      <td>Resort Hotel</td>\n      <td>0</td>\n      <td>737</td>\n      <td>2015</td>\n      <td>July</td>\n      <td>27</td>\n      <td>1</td>\n      <td>0</td>\n      <td>0</td>\n      <td>2</td>\n      <td>...</td>\n      <td>4</td>\n      <td>No Deposit</td>\n      <td>86.693382</td>\n      <td>0</td>\n      <td>Transient</td>\n      <td>0.00</td>\n      <td>0</td>\n      <td>0</td>\n      <td>Check-Out</td>\n      <td>2015-07-01</td>\n    </tr>\n    <tr>\n      <th>2</th>\n      <td>Resort Hotel</td>\n      <td>0</td>\n      <td>7</td>\n      <td>2015</td>\n      <td>July</td>\n      <td>27</td>\n      <td>1</td>\n      <td>0</td>\n      <td>1</td>\n      <td>1</td>\n      <td>...</td>\n      <td>0</td>\n      <td>No Deposit</td>\n      <td>86.693382</td>\n      <td>0</td>\n      <td>Transient</td>\n      <td>75.00</td>\n      <td>0</td>\n      <td>0</td>\n      <td>Check-Out</td>\n      <td>2015-07-02</td>\n    </tr>\n    <tr>\n      <th>3</th>\n      <td>Resort Hotel</td>\n      <td>0</td>\n      <td>13</td>\n      <td>2015</td>\n      <td>July</td>\n      <td>27</td>\n      <td>1</td>\n      <td>0</td>\n      <td>1</td>\n      <td>1</td>\n      <td>...</td>\n      <td>0</td>\n      <td>No Deposit</td>\n      <td>304.000000</td>\n      <td>0</td>\n      <td>Transient</td>\n      <td>75.00</td>\n      <td>0</td>\n      <td>0</td>\n      <td>Check-Out</td>\n      <td>2015-07-02</td>\n    </tr>\n    <tr>\n      <th>4</th>\n      <td>Resort Hotel</td>\n      <td>0</td>\n      <td>14</td>\n      <td>2015</td>\n      <td>July</td>\n      <td>27</td>\n      <td>1</td>\n      <td>0</td>\n      <td>2</td>\n      <td>2</td>\n      <td>...</td>\n      <td>0</td>\n      <td>No Deposit</td>\n      <td>240.000000</td>\n      <td>0</td>\n      <td>Transient</td>\n      <td>98.00</td>\n      <td>0</td>\n      <td>1</td>\n      <td>Check-Out</td>\n      <td>2015-07-03</td>\n    </tr>\n    <tr>\n      <th>...</th>\n      <td>...</td>\n      <td>...</td>\n      <td>...</td>\n      <td>...</td>\n      <td>...</td>\n      <td>...</td>\n      <td>...</td>\n      <td>...</td>\n      <td>...</td>\n      <td>...</td>\n      <td>...</td>\n      <td>...</td>\n      <td>...</td>\n      <td>...</td>\n      <td>...</td>\n      <td>...</td>\n      <td>...</td>\n      <td>...</td>\n      <td>...</td>\n      <td>...</td>\n      <td>...</td>\n    </tr>\n    <tr>\n      <th>119385</th>\n      <td>City Hotel</td>\n      <td>0</td>\n      <td>23</td>\n      <td>2017</td>\n      <td>August</td>\n      <td>35</td>\n      <td>30</td>\n      <td>2</td>\n      <td>5</td>\n      <td>2</td>\n      <td>...</td>\n      <td>0</td>\n      <td>No Deposit</td>\n      <td>394.000000</td>\n      <td>0</td>\n      <td>Transient</td>\n      <td>96.14</td>\n      <td>0</td>\n      <td>0</td>\n      <td>Check-Out</td>\n      <td>2017-09-06</td>\n    </tr>\n    <tr>\n      <th>119386</th>\n      <td>City Hotel</td>\n      <td>0</td>\n      <td>102</td>\n      <td>2017</td>\n      <td>August</td>\n      <td>35</td>\n      <td>31</td>\n      <td>2</td>\n      <td>5</td>\n      <td>3</td>\n      <td>...</td>\n      <td>0</td>\n      <td>No Deposit</td>\n      <td>9.000000</td>\n      <td>0</td>\n      <td>Transient</td>\n      <td>225.43</td>\n      <td>0</td>\n      <td>2</td>\n      <td>Check-Out</td>\n      <td>2017-09-07</td>\n    </tr>\n    <tr>\n      <th>119387</th>\n      <td>City Hotel</td>\n      <td>0</td>\n      <td>34</td>\n      <td>2017</td>\n      <td>August</td>\n      <td>35</td>\n      <td>31</td>\n      <td>2</td>\n      <td>5</td>\n      <td>2</td>\n      <td>...</td>\n      <td>0</td>\n      <td>No Deposit</td>\n      <td>9.000000</td>\n      <td>0</td>\n      <td>Transient</td>\n      <td>157.71</td>\n      <td>0</td>\n      <td>4</td>\n      <td>Check-Out</td>\n      <td>2017-09-07</td>\n    </tr>\n    <tr>\n      <th>119388</th>\n      <td>City Hotel</td>\n      <td>0</td>\n      <td>109</td>\n      <td>2017</td>\n      <td>August</td>\n      <td>35</td>\n      <td>31</td>\n      <td>2</td>\n      <td>5</td>\n      <td>2</td>\n      <td>...</td>\n      <td>0</td>\n      <td>No Deposit</td>\n      <td>89.000000</td>\n      <td>0</td>\n      <td>Transient</td>\n      <td>104.40</td>\n      <td>0</td>\n      <td>0</td>\n      <td>Check-Out</td>\n      <td>2017-09-07</td>\n    </tr>\n    <tr>\n      <th>119389</th>\n      <td>City Hotel</td>\n      <td>0</td>\n      <td>205</td>\n      <td>2017</td>\n      <td>August</td>\n      <td>35</td>\n      <td>29</td>\n      <td>2</td>\n      <td>7</td>\n      <td>2</td>\n      <td>...</td>\n      <td>0</td>\n      <td>No Deposit</td>\n      <td>9.000000</td>\n      <td>0</td>\n      <td>Transient</td>\n      <td>151.20</td>\n      <td>0</td>\n      <td>2</td>\n      <td>Check-Out</td>\n      <td>2017-09-07</td>\n    </tr>\n  </tbody>\n</table>\n<p>119390 rows × 31 columns</p>\n</div>"
     },
     "metadata": {},
     "execution_count": 53
    }
   ],
   "source": [
    "data_hotel['agent']=data_hotel['agent'].fillna(mean_agent) #mengisi data agent yang masih kosong dengan hasil nilai rata\n",
    "data_hotel"
   ]
  },
  {
   "source": [
    "## mengisi data country dan data children yang kosong dengan data country dan value yang sering muncul "
   ],
   "cell_type": "markdown",
   "metadata": {}
  },
  {
   "source": [
    "### check data country yang sering di panggil"
   ],
   "cell_type": "markdown",
   "metadata": {}
  },
  {
   "cell_type": "code",
   "execution_count": 54,
   "metadata": {},
   "outputs": [
    {
     "output_type": "execute_result",
     "data": {
      "text/plain": [
       "PRT    48590\n",
       "GBR    12129\n",
       "FRA    10415\n",
       "ESP     8568\n",
       "DEU     7287\n",
       "       ...  \n",
       "SLE        1\n",
       "BFA        1\n",
       "BHS        1\n",
       "GUY        1\n",
       "NPL        1\n",
       "Name: country, Length: 177, dtype: int64"
      ]
     },
     "metadata": {},
     "execution_count": 54
    }
   ],
   "source": [
    "data_hotel['country'].value_counts()"
   ]
  },
  {
   "source": [
    "### check data children yang sering dipanggil"
   ],
   "cell_type": "markdown",
   "metadata": {}
  },
  {
   "cell_type": "code",
   "execution_count": 55,
   "metadata": {},
   "outputs": [
    {
     "output_type": "execute_result",
     "data": {
      "text/plain": [
       "0.0     110796\n",
       "1.0       4861\n",
       "2.0       3652\n",
       "3.0         76\n",
       "10.0         1\n",
       "Name: children, dtype: int64"
      ]
     },
     "metadata": {},
     "execution_count": 55
    }
   ],
   "source": [
    "data_hotel['children'].value_counts()"
   ]
  },
  {
   "cell_type": "code",
   "execution_count": 56,
   "metadata": {},
   "outputs": [
    {
     "output_type": "stream",
     "name": "stdout",
     "text": [
      "country \t PRT\nchildren\t 0.0\n"
     ]
    }
   ],
   "source": [
    "print(\"country \\t\",data_hotel['country'].mode()[0]) # mendapatkan data yang sering muncul\n",
    "print(\"children\\t\",data_hotel['children'].mode()[0]) # mendapatkan data yang sering muncul\n"
   ]
  },
  {
   "source": [
    "### input data country yang kosong denga PRT"
   ],
   "cell_type": "markdown",
   "metadata": {}
  },
  {
   "cell_type": "code",
   "execution_count": 57,
   "metadata": {},
   "outputs": [
    {
     "output_type": "execute_result",
     "data": {
      "text/plain": [
       "0         PRT\n",
       "1         PRT\n",
       "2         GBR\n",
       "3         GBR\n",
       "4         GBR\n",
       "         ... \n",
       "119385    BEL\n",
       "119386    FRA\n",
       "119387    DEU\n",
       "119388    GBR\n",
       "119389    DEU\n",
       "Name: country, Length: 119390, dtype: object"
      ]
     },
     "metadata": {},
     "execution_count": 57
    }
   ],
   "source": [
    "data_hotel['country'] = data_hotel['country'].fillna(data_hotel['country'].mode()[0])\n",
    "data_hotel['country']"
   ]
  },
  {
   "source": [
    "### input data children yang kosong dengan value 0"
   ],
   "cell_type": "markdown",
   "metadata": {}
  },
  {
   "cell_type": "code",
   "execution_count": 58,
   "metadata": {},
   "outputs": [
    {
     "output_type": "execute_result",
     "data": {
      "text/plain": [
       "0         0.0\n",
       "1         0.0\n",
       "2         0.0\n",
       "3         0.0\n",
       "4         0.0\n",
       "         ... \n",
       "119385    0.0\n",
       "119386    0.0\n",
       "119387    0.0\n",
       "119388    0.0\n",
       "119389    0.0\n",
       "Name: children, Length: 119390, dtype: float64"
      ]
     },
     "metadata": {},
     "execution_count": 58
    }
   ],
   "source": [
    "data_hotel['children'] = data_hotel['children'].fillna(data_hotel['children'].mode()[0])\n",
    "data_hotel['children']"
   ]
  },
  {
   "cell_type": "code",
   "execution_count": 59,
   "metadata": {},
   "outputs": [
    {
     "output_type": "execute_result",
     "data": {
      "text/plain": [
       "               hotel  is_canceled  lead_time  arrival_date_year  \\\n",
       "0       Resort Hotel            0        342               2015   \n",
       "1       Resort Hotel            0        737               2015   \n",
       "2       Resort Hotel            0          7               2015   \n",
       "3       Resort Hotel            0         13               2015   \n",
       "4       Resort Hotel            0         14               2015   \n",
       "...              ...          ...        ...                ...   \n",
       "119385    City Hotel            0         23               2017   \n",
       "119386    City Hotel            0        102               2017   \n",
       "119387    City Hotel            0         34               2017   \n",
       "119388    City Hotel            0        109               2017   \n",
       "119389    City Hotel            0        205               2017   \n",
       "\n",
       "       arrival_date_month  arrival_date_week_number  \\\n",
       "0                    July                        27   \n",
       "1                    July                        27   \n",
       "2                    July                        27   \n",
       "3                    July                        27   \n",
       "4                    July                        27   \n",
       "...                   ...                       ...   \n",
       "119385             August                        35   \n",
       "119386             August                        35   \n",
       "119387             August                        35   \n",
       "119388             August                        35   \n",
       "119389             August                        35   \n",
       "\n",
       "        arrival_date_day_of_month  stays_in_weekend_nights  \\\n",
       "0                               1                        0   \n",
       "1                               1                        0   \n",
       "2                               1                        0   \n",
       "3                               1                        0   \n",
       "4                               1                        0   \n",
       "...                           ...                      ...   \n",
       "119385                         30                        2   \n",
       "119386                         31                        2   \n",
       "119387                         31                        2   \n",
       "119388                         31                        2   \n",
       "119389                         29                        2   \n",
       "\n",
       "        stays_in_week_nights  adults  ...  booking_changes  deposit_type  \\\n",
       "0                          0       2  ...                3    No Deposit   \n",
       "1                          0       2  ...                4    No Deposit   \n",
       "2                          1       1  ...                0    No Deposit   \n",
       "3                          1       1  ...                0    No Deposit   \n",
       "4                          2       2  ...                0    No Deposit   \n",
       "...                      ...     ...  ...              ...           ...   \n",
       "119385                     5       2  ...                0    No Deposit   \n",
       "119386                     5       3  ...                0    No Deposit   \n",
       "119387                     5       2  ...                0    No Deposit   \n",
       "119388                     5       2  ...                0    No Deposit   \n",
       "119389                     7       2  ...                0    No Deposit   \n",
       "\n",
       "             agent days_in_waiting_list customer_type     adr  \\\n",
       "0        86.693382                    0     Transient    0.00   \n",
       "1        86.693382                    0     Transient    0.00   \n",
       "2        86.693382                    0     Transient   75.00   \n",
       "3       304.000000                    0     Transient   75.00   \n",
       "4       240.000000                    0     Transient   98.00   \n",
       "...            ...                  ...           ...     ...   \n",
       "119385  394.000000                    0     Transient   96.14   \n",
       "119386    9.000000                    0     Transient  225.43   \n",
       "119387    9.000000                    0     Transient  157.71   \n",
       "119388   89.000000                    0     Transient  104.40   \n",
       "119389    9.000000                    0     Transient  151.20   \n",
       "\n",
       "        required_car_parking_spaces  total_of_special_requests  \\\n",
       "0                                 0                          0   \n",
       "1                                 0                          0   \n",
       "2                                 0                          0   \n",
       "3                                 0                          0   \n",
       "4                                 0                          1   \n",
       "...                             ...                        ...   \n",
       "119385                            0                          0   \n",
       "119386                            0                          2   \n",
       "119387                            0                          4   \n",
       "119388                            0                          0   \n",
       "119389                            0                          2   \n",
       "\n",
       "        reservation_status reservation_status_date  \n",
       "0                Check-Out              2015-07-01  \n",
       "1                Check-Out              2015-07-01  \n",
       "2                Check-Out              2015-07-02  \n",
       "3                Check-Out              2015-07-02  \n",
       "4                Check-Out              2015-07-03  \n",
       "...                    ...                     ...  \n",
       "119385           Check-Out              2017-09-06  \n",
       "119386           Check-Out              2017-09-07  \n",
       "119387           Check-Out              2017-09-07  \n",
       "119388           Check-Out              2017-09-07  \n",
       "119389           Check-Out              2017-09-07  \n",
       "\n",
       "[119390 rows x 31 columns]"
      ],
      "text/html": "<div>\n<style scoped>\n    .dataframe tbody tr th:only-of-type {\n        vertical-align: middle;\n    }\n\n    .dataframe tbody tr th {\n        vertical-align: top;\n    }\n\n    .dataframe thead th {\n        text-align: right;\n    }\n</style>\n<table border=\"1\" class=\"dataframe\">\n  <thead>\n    <tr style=\"text-align: right;\">\n      <th></th>\n      <th>hotel</th>\n      <th>is_canceled</th>\n      <th>lead_time</th>\n      <th>arrival_date_year</th>\n      <th>arrival_date_month</th>\n      <th>arrival_date_week_number</th>\n      <th>arrival_date_day_of_month</th>\n      <th>stays_in_weekend_nights</th>\n      <th>stays_in_week_nights</th>\n      <th>adults</th>\n      <th>...</th>\n      <th>booking_changes</th>\n      <th>deposit_type</th>\n      <th>agent</th>\n      <th>days_in_waiting_list</th>\n      <th>customer_type</th>\n      <th>adr</th>\n      <th>required_car_parking_spaces</th>\n      <th>total_of_special_requests</th>\n      <th>reservation_status</th>\n      <th>reservation_status_date</th>\n    </tr>\n  </thead>\n  <tbody>\n    <tr>\n      <th>0</th>\n      <td>Resort Hotel</td>\n      <td>0</td>\n      <td>342</td>\n      <td>2015</td>\n      <td>July</td>\n      <td>27</td>\n      <td>1</td>\n      <td>0</td>\n      <td>0</td>\n      <td>2</td>\n      <td>...</td>\n      <td>3</td>\n      <td>No Deposit</td>\n      <td>86.693382</td>\n      <td>0</td>\n      <td>Transient</td>\n      <td>0.00</td>\n      <td>0</td>\n      <td>0</td>\n      <td>Check-Out</td>\n      <td>2015-07-01</td>\n    </tr>\n    <tr>\n      <th>1</th>\n      <td>Resort Hotel</td>\n      <td>0</td>\n      <td>737</td>\n      <td>2015</td>\n      <td>July</td>\n      <td>27</td>\n      <td>1</td>\n      <td>0</td>\n      <td>0</td>\n      <td>2</td>\n      <td>...</td>\n      <td>4</td>\n      <td>No Deposit</td>\n      <td>86.693382</td>\n      <td>0</td>\n      <td>Transient</td>\n      <td>0.00</td>\n      <td>0</td>\n      <td>0</td>\n      <td>Check-Out</td>\n      <td>2015-07-01</td>\n    </tr>\n    <tr>\n      <th>2</th>\n      <td>Resort Hotel</td>\n      <td>0</td>\n      <td>7</td>\n      <td>2015</td>\n      <td>July</td>\n      <td>27</td>\n      <td>1</td>\n      <td>0</td>\n      <td>1</td>\n      <td>1</td>\n      <td>...</td>\n      <td>0</td>\n      <td>No Deposit</td>\n      <td>86.693382</td>\n      <td>0</td>\n      <td>Transient</td>\n      <td>75.00</td>\n      <td>0</td>\n      <td>0</td>\n      <td>Check-Out</td>\n      <td>2015-07-02</td>\n    </tr>\n    <tr>\n      <th>3</th>\n      <td>Resort Hotel</td>\n      <td>0</td>\n      <td>13</td>\n      <td>2015</td>\n      <td>July</td>\n      <td>27</td>\n      <td>1</td>\n      <td>0</td>\n      <td>1</td>\n      <td>1</td>\n      <td>...</td>\n      <td>0</td>\n      <td>No Deposit</td>\n      <td>304.000000</td>\n      <td>0</td>\n      <td>Transient</td>\n      <td>75.00</td>\n      <td>0</td>\n      <td>0</td>\n      <td>Check-Out</td>\n      <td>2015-07-02</td>\n    </tr>\n    <tr>\n      <th>4</th>\n      <td>Resort Hotel</td>\n      <td>0</td>\n      <td>14</td>\n      <td>2015</td>\n      <td>July</td>\n      <td>27</td>\n      <td>1</td>\n      <td>0</td>\n      <td>2</td>\n      <td>2</td>\n      <td>...</td>\n      <td>0</td>\n      <td>No Deposit</td>\n      <td>240.000000</td>\n      <td>0</td>\n      <td>Transient</td>\n      <td>98.00</td>\n      <td>0</td>\n      <td>1</td>\n      <td>Check-Out</td>\n      <td>2015-07-03</td>\n    </tr>\n    <tr>\n      <th>...</th>\n      <td>...</td>\n      <td>...</td>\n      <td>...</td>\n      <td>...</td>\n      <td>...</td>\n      <td>...</td>\n      <td>...</td>\n      <td>...</td>\n      <td>...</td>\n      <td>...</td>\n      <td>...</td>\n      <td>...</td>\n      <td>...</td>\n      <td>...</td>\n      <td>...</td>\n      <td>...</td>\n      <td>...</td>\n      <td>...</td>\n      <td>...</td>\n      <td>...</td>\n      <td>...</td>\n    </tr>\n    <tr>\n      <th>119385</th>\n      <td>City Hotel</td>\n      <td>0</td>\n      <td>23</td>\n      <td>2017</td>\n      <td>August</td>\n      <td>35</td>\n      <td>30</td>\n      <td>2</td>\n      <td>5</td>\n      <td>2</td>\n      <td>...</td>\n      <td>0</td>\n      <td>No Deposit</td>\n      <td>394.000000</td>\n      <td>0</td>\n      <td>Transient</td>\n      <td>96.14</td>\n      <td>0</td>\n      <td>0</td>\n      <td>Check-Out</td>\n      <td>2017-09-06</td>\n    </tr>\n    <tr>\n      <th>119386</th>\n      <td>City Hotel</td>\n      <td>0</td>\n      <td>102</td>\n      <td>2017</td>\n      <td>August</td>\n      <td>35</td>\n      <td>31</td>\n      <td>2</td>\n      <td>5</td>\n      <td>3</td>\n      <td>...</td>\n      <td>0</td>\n      <td>No Deposit</td>\n      <td>9.000000</td>\n      <td>0</td>\n      <td>Transient</td>\n      <td>225.43</td>\n      <td>0</td>\n      <td>2</td>\n      <td>Check-Out</td>\n      <td>2017-09-07</td>\n    </tr>\n    <tr>\n      <th>119387</th>\n      <td>City Hotel</td>\n      <td>0</td>\n      <td>34</td>\n      <td>2017</td>\n      <td>August</td>\n      <td>35</td>\n      <td>31</td>\n      <td>2</td>\n      <td>5</td>\n      <td>2</td>\n      <td>...</td>\n      <td>0</td>\n      <td>No Deposit</td>\n      <td>9.000000</td>\n      <td>0</td>\n      <td>Transient</td>\n      <td>157.71</td>\n      <td>0</td>\n      <td>4</td>\n      <td>Check-Out</td>\n      <td>2017-09-07</td>\n    </tr>\n    <tr>\n      <th>119388</th>\n      <td>City Hotel</td>\n      <td>0</td>\n      <td>109</td>\n      <td>2017</td>\n      <td>August</td>\n      <td>35</td>\n      <td>31</td>\n      <td>2</td>\n      <td>5</td>\n      <td>2</td>\n      <td>...</td>\n      <td>0</td>\n      <td>No Deposit</td>\n      <td>89.000000</td>\n      <td>0</td>\n      <td>Transient</td>\n      <td>104.40</td>\n      <td>0</td>\n      <td>0</td>\n      <td>Check-Out</td>\n      <td>2017-09-07</td>\n    </tr>\n    <tr>\n      <th>119389</th>\n      <td>City Hotel</td>\n      <td>0</td>\n      <td>205</td>\n      <td>2017</td>\n      <td>August</td>\n      <td>35</td>\n      <td>29</td>\n      <td>2</td>\n      <td>7</td>\n      <td>2</td>\n      <td>...</td>\n      <td>0</td>\n      <td>No Deposit</td>\n      <td>9.000000</td>\n      <td>0</td>\n      <td>Transient</td>\n      <td>151.20</td>\n      <td>0</td>\n      <td>2</td>\n      <td>Check-Out</td>\n      <td>2017-09-07</td>\n    </tr>\n  </tbody>\n</table>\n<p>119390 rows × 31 columns</p>\n</div>"
     },
     "metadata": {},
     "execution_count": 59
    }
   ],
   "source": [
    "data_hotel"
   ]
  },
  {
   "source": [
    "## mengubah lead_time menjadi Short, Medium, Long"
   ],
   "cell_type": "markdown",
   "metadata": {}
  },
  {
   "cell_type": "code",
   "execution_count": 60,
   "metadata": {},
   "outputs": [
    {
     "output_type": "stream",
     "name": "stdout",
     "text": [
      "long >= 138.68188848870648\nshort <= 34.67047212217662\nMedium 34.67047212217662  -  138.68188848870648\n"
     ]
    }
   ],
   "source": [
    "lead_time_long = (data_hotel['lead_time'].mean()/3) +data_hotel['lead_time'].mean()\n",
    "lead_time_short = data_hotel['lead_time'].mean()/3\n",
    "\n",
    "print(\"long\",lead_time_long,sep=\" >= \")\n",
    "print(\"short\",lead_time_short,sep=\" <= \")\n",
    "print(\"Medium\",lead_time_short,\" - \",lead_time_long)"
   ]
  },
  {
   "cell_type": "code",
   "execution_count": 61,
   "metadata": {},
   "outputs": [],
   "source": [
    "data_hotel['lead_time'] = np.where(data_hotel['lead_time']<lead_time_short,\"Short\",np.where(data_hotel['lead_time']>lead_time_long,\"Long\",\"Medium\"))\n",
    "#jika dicompile ulang terjadi error, wajar karena data sudah berubah menjadi Short,Medium dan Long"
   ]
  },
  {
   "cell_type": "code",
   "execution_count": 62,
   "metadata": {},
   "outputs": [
    {
     "output_type": "stream",
     "name": "stdout",
     "text": [
      "penyebaran data short, medium dan long\n",
      "Short\t:  41552\n",
      "Medium\t:  42178\n",
      "Long\t:  35660\n"
     ]
    }
   ],
   "source": [
    "print(\"penyebaran data short, medium dan long\")\n",
    "print(\"Short\\t: \",data_hotel['lead_time'].loc[data_hotel['lead_time']==\"Short\"].shape[0])\n",
    "print(\"Medium\\t: \",data_hotel['lead_time'].loc[data_hotel['lead_time']==\"Medium\"].shape[0])\n",
    "print(\"Long\\t: \",data_hotel['lead_time'].loc[data_hotel['lead_time']==\"Long\"].shape[0])\n",
    "\n"
   ]
  },
  {
   "cell_type": "code",
   "execution_count": 63,
   "metadata": {},
   "outputs": [
    {
     "output_type": "execute_result",
     "data": {
      "text/plain": [
       "               hotel  is_canceled lead_time  arrival_date_year  \\\n",
       "0       Resort Hotel            0      Long               2015   \n",
       "1       Resort Hotel            0      Long               2015   \n",
       "2       Resort Hotel            0     Short               2015   \n",
       "3       Resort Hotel            0     Short               2015   \n",
       "4       Resort Hotel            0     Short               2015   \n",
       "...              ...          ...       ...                ...   \n",
       "119385    City Hotel            0     Short               2017   \n",
       "119386    City Hotel            0    Medium               2017   \n",
       "119387    City Hotel            0     Short               2017   \n",
       "119388    City Hotel            0    Medium               2017   \n",
       "119389    City Hotel            0      Long               2017   \n",
       "\n",
       "       arrival_date_month  arrival_date_week_number  \\\n",
       "0                    July                        27   \n",
       "1                    July                        27   \n",
       "2                    July                        27   \n",
       "3                    July                        27   \n",
       "4                    July                        27   \n",
       "...                   ...                       ...   \n",
       "119385             August                        35   \n",
       "119386             August                        35   \n",
       "119387             August                        35   \n",
       "119388             August                        35   \n",
       "119389             August                        35   \n",
       "\n",
       "        arrival_date_day_of_month  stays_in_weekend_nights  \\\n",
       "0                               1                        0   \n",
       "1                               1                        0   \n",
       "2                               1                        0   \n",
       "3                               1                        0   \n",
       "4                               1                        0   \n",
       "...                           ...                      ...   \n",
       "119385                         30                        2   \n",
       "119386                         31                        2   \n",
       "119387                         31                        2   \n",
       "119388                         31                        2   \n",
       "119389                         29                        2   \n",
       "\n",
       "        stays_in_week_nights  adults  ...  booking_changes  deposit_type  \\\n",
       "0                          0       2  ...                3    No Deposit   \n",
       "1                          0       2  ...                4    No Deposit   \n",
       "2                          1       1  ...                0    No Deposit   \n",
       "3                          1       1  ...                0    No Deposit   \n",
       "4                          2       2  ...                0    No Deposit   \n",
       "...                      ...     ...  ...              ...           ...   \n",
       "119385                     5       2  ...                0    No Deposit   \n",
       "119386                     5       3  ...                0    No Deposit   \n",
       "119387                     5       2  ...                0    No Deposit   \n",
       "119388                     5       2  ...                0    No Deposit   \n",
       "119389                     7       2  ...                0    No Deposit   \n",
       "\n",
       "             agent days_in_waiting_list customer_type     adr  \\\n",
       "0        86.693382                    0     Transient    0.00   \n",
       "1        86.693382                    0     Transient    0.00   \n",
       "2        86.693382                    0     Transient   75.00   \n",
       "3       304.000000                    0     Transient   75.00   \n",
       "4       240.000000                    0     Transient   98.00   \n",
       "...            ...                  ...           ...     ...   \n",
       "119385  394.000000                    0     Transient   96.14   \n",
       "119386    9.000000                    0     Transient  225.43   \n",
       "119387    9.000000                    0     Transient  157.71   \n",
       "119388   89.000000                    0     Transient  104.40   \n",
       "119389    9.000000                    0     Transient  151.20   \n",
       "\n",
       "        required_car_parking_spaces  total_of_special_requests  \\\n",
       "0                                 0                          0   \n",
       "1                                 0                          0   \n",
       "2                                 0                          0   \n",
       "3                                 0                          0   \n",
       "4                                 0                          1   \n",
       "...                             ...                        ...   \n",
       "119385                            0                          0   \n",
       "119386                            0                          2   \n",
       "119387                            0                          4   \n",
       "119388                            0                          0   \n",
       "119389                            0                          2   \n",
       "\n",
       "        reservation_status reservation_status_date  \n",
       "0                Check-Out              2015-07-01  \n",
       "1                Check-Out              2015-07-01  \n",
       "2                Check-Out              2015-07-02  \n",
       "3                Check-Out              2015-07-02  \n",
       "4                Check-Out              2015-07-03  \n",
       "...                    ...                     ...  \n",
       "119385           Check-Out              2017-09-06  \n",
       "119386           Check-Out              2017-09-07  \n",
       "119387           Check-Out              2017-09-07  \n",
       "119388           Check-Out              2017-09-07  \n",
       "119389           Check-Out              2017-09-07  \n",
       "\n",
       "[119390 rows x 31 columns]"
      ],
      "text/html": "<div>\n<style scoped>\n    .dataframe tbody tr th:only-of-type {\n        vertical-align: middle;\n    }\n\n    .dataframe tbody tr th {\n        vertical-align: top;\n    }\n\n    .dataframe thead th {\n        text-align: right;\n    }\n</style>\n<table border=\"1\" class=\"dataframe\">\n  <thead>\n    <tr style=\"text-align: right;\">\n      <th></th>\n      <th>hotel</th>\n      <th>is_canceled</th>\n      <th>lead_time</th>\n      <th>arrival_date_year</th>\n      <th>arrival_date_month</th>\n      <th>arrival_date_week_number</th>\n      <th>arrival_date_day_of_month</th>\n      <th>stays_in_weekend_nights</th>\n      <th>stays_in_week_nights</th>\n      <th>adults</th>\n      <th>...</th>\n      <th>booking_changes</th>\n      <th>deposit_type</th>\n      <th>agent</th>\n      <th>days_in_waiting_list</th>\n      <th>customer_type</th>\n      <th>adr</th>\n      <th>required_car_parking_spaces</th>\n      <th>total_of_special_requests</th>\n      <th>reservation_status</th>\n      <th>reservation_status_date</th>\n    </tr>\n  </thead>\n  <tbody>\n    <tr>\n      <th>0</th>\n      <td>Resort Hotel</td>\n      <td>0</td>\n      <td>Long</td>\n      <td>2015</td>\n      <td>July</td>\n      <td>27</td>\n      <td>1</td>\n      <td>0</td>\n      <td>0</td>\n      <td>2</td>\n      <td>...</td>\n      <td>3</td>\n      <td>No Deposit</td>\n      <td>86.693382</td>\n      <td>0</td>\n      <td>Transient</td>\n      <td>0.00</td>\n      <td>0</td>\n      <td>0</td>\n      <td>Check-Out</td>\n      <td>2015-07-01</td>\n    </tr>\n    <tr>\n      <th>1</th>\n      <td>Resort Hotel</td>\n      <td>0</td>\n      <td>Long</td>\n      <td>2015</td>\n      <td>July</td>\n      <td>27</td>\n      <td>1</td>\n      <td>0</td>\n      <td>0</td>\n      <td>2</td>\n      <td>...</td>\n      <td>4</td>\n      <td>No Deposit</td>\n      <td>86.693382</td>\n      <td>0</td>\n      <td>Transient</td>\n      <td>0.00</td>\n      <td>0</td>\n      <td>0</td>\n      <td>Check-Out</td>\n      <td>2015-07-01</td>\n    </tr>\n    <tr>\n      <th>2</th>\n      <td>Resort Hotel</td>\n      <td>0</td>\n      <td>Short</td>\n      <td>2015</td>\n      <td>July</td>\n      <td>27</td>\n      <td>1</td>\n      <td>0</td>\n      <td>1</td>\n      <td>1</td>\n      <td>...</td>\n      <td>0</td>\n      <td>No Deposit</td>\n      <td>86.693382</td>\n      <td>0</td>\n      <td>Transient</td>\n      <td>75.00</td>\n      <td>0</td>\n      <td>0</td>\n      <td>Check-Out</td>\n      <td>2015-07-02</td>\n    </tr>\n    <tr>\n      <th>3</th>\n      <td>Resort Hotel</td>\n      <td>0</td>\n      <td>Short</td>\n      <td>2015</td>\n      <td>July</td>\n      <td>27</td>\n      <td>1</td>\n      <td>0</td>\n      <td>1</td>\n      <td>1</td>\n      <td>...</td>\n      <td>0</td>\n      <td>No Deposit</td>\n      <td>304.000000</td>\n      <td>0</td>\n      <td>Transient</td>\n      <td>75.00</td>\n      <td>0</td>\n      <td>0</td>\n      <td>Check-Out</td>\n      <td>2015-07-02</td>\n    </tr>\n    <tr>\n      <th>4</th>\n      <td>Resort Hotel</td>\n      <td>0</td>\n      <td>Short</td>\n      <td>2015</td>\n      <td>July</td>\n      <td>27</td>\n      <td>1</td>\n      <td>0</td>\n      <td>2</td>\n      <td>2</td>\n      <td>...</td>\n      <td>0</td>\n      <td>No Deposit</td>\n      <td>240.000000</td>\n      <td>0</td>\n      <td>Transient</td>\n      <td>98.00</td>\n      <td>0</td>\n      <td>1</td>\n      <td>Check-Out</td>\n      <td>2015-07-03</td>\n    </tr>\n    <tr>\n      <th>...</th>\n      <td>...</td>\n      <td>...</td>\n      <td>...</td>\n      <td>...</td>\n      <td>...</td>\n      <td>...</td>\n      <td>...</td>\n      <td>...</td>\n      <td>...</td>\n      <td>...</td>\n      <td>...</td>\n      <td>...</td>\n      <td>...</td>\n      <td>...</td>\n      <td>...</td>\n      <td>...</td>\n      <td>...</td>\n      <td>...</td>\n      <td>...</td>\n      <td>...</td>\n      <td>...</td>\n    </tr>\n    <tr>\n      <th>119385</th>\n      <td>City Hotel</td>\n      <td>0</td>\n      <td>Short</td>\n      <td>2017</td>\n      <td>August</td>\n      <td>35</td>\n      <td>30</td>\n      <td>2</td>\n      <td>5</td>\n      <td>2</td>\n      <td>...</td>\n      <td>0</td>\n      <td>No Deposit</td>\n      <td>394.000000</td>\n      <td>0</td>\n      <td>Transient</td>\n      <td>96.14</td>\n      <td>0</td>\n      <td>0</td>\n      <td>Check-Out</td>\n      <td>2017-09-06</td>\n    </tr>\n    <tr>\n      <th>119386</th>\n      <td>City Hotel</td>\n      <td>0</td>\n      <td>Medium</td>\n      <td>2017</td>\n      <td>August</td>\n      <td>35</td>\n      <td>31</td>\n      <td>2</td>\n      <td>5</td>\n      <td>3</td>\n      <td>...</td>\n      <td>0</td>\n      <td>No Deposit</td>\n      <td>9.000000</td>\n      <td>0</td>\n      <td>Transient</td>\n      <td>225.43</td>\n      <td>0</td>\n      <td>2</td>\n      <td>Check-Out</td>\n      <td>2017-09-07</td>\n    </tr>\n    <tr>\n      <th>119387</th>\n      <td>City Hotel</td>\n      <td>0</td>\n      <td>Short</td>\n      <td>2017</td>\n      <td>August</td>\n      <td>35</td>\n      <td>31</td>\n      <td>2</td>\n      <td>5</td>\n      <td>2</td>\n      <td>...</td>\n      <td>0</td>\n      <td>No Deposit</td>\n      <td>9.000000</td>\n      <td>0</td>\n      <td>Transient</td>\n      <td>157.71</td>\n      <td>0</td>\n      <td>4</td>\n      <td>Check-Out</td>\n      <td>2017-09-07</td>\n    </tr>\n    <tr>\n      <th>119388</th>\n      <td>City Hotel</td>\n      <td>0</td>\n      <td>Medium</td>\n      <td>2017</td>\n      <td>August</td>\n      <td>35</td>\n      <td>31</td>\n      <td>2</td>\n      <td>5</td>\n      <td>2</td>\n      <td>...</td>\n      <td>0</td>\n      <td>No Deposit</td>\n      <td>89.000000</td>\n      <td>0</td>\n      <td>Transient</td>\n      <td>104.40</td>\n      <td>0</td>\n      <td>0</td>\n      <td>Check-Out</td>\n      <td>2017-09-07</td>\n    </tr>\n    <tr>\n      <th>119389</th>\n      <td>City Hotel</td>\n      <td>0</td>\n      <td>Long</td>\n      <td>2017</td>\n      <td>August</td>\n      <td>35</td>\n      <td>29</td>\n      <td>2</td>\n      <td>7</td>\n      <td>2</td>\n      <td>...</td>\n      <td>0</td>\n      <td>No Deposit</td>\n      <td>9.000000</td>\n      <td>0</td>\n      <td>Transient</td>\n      <td>151.20</td>\n      <td>0</td>\n      <td>2</td>\n      <td>Check-Out</td>\n      <td>2017-09-07</td>\n    </tr>\n  </tbody>\n</table>\n<p>119390 rows × 31 columns</p>\n</div>"
     },
     "metadata": {},
     "execution_count": 63
    }
   ],
   "source": [
    "data_hotel"
   ]
  },
  {
   "source": [
    "## memfilter data ['reservation_status_date'] tahun 2017 keatas"
   ],
   "cell_type": "markdown",
   "metadata": {}
  },
  {
   "cell_type": "code",
   "execution_count": 64,
   "metadata": {},
   "outputs": [],
   "source": [
    "import datetime"
   ]
  },
  {
   "cell_type": "code",
   "execution_count": 65,
   "metadata": {},
   "outputs": [
    {
     "output_type": "execute_result",
     "data": {
      "text/plain": [
       "               hotel  is_canceled lead_time  arrival_date_year  \\\n",
       "9788    Resort Hotel            1    Medium               2017   \n",
       "9805    Resort Hotel            1     Short               2017   \n",
       "9809    Resort Hotel            1    Medium               2017   \n",
       "9818    Resort Hotel            1     Short               2017   \n",
       "9838    Resort Hotel            1     Short               2017   \n",
       "...              ...          ...       ...                ...   \n",
       "119385    City Hotel            0     Short               2017   \n",
       "119386    City Hotel            0    Medium               2017   \n",
       "119387    City Hotel            0     Short               2017   \n",
       "119388    City Hotel            0    Medium               2017   \n",
       "119389    City Hotel            0      Long               2017   \n",
       "\n",
       "       arrival_date_month  arrival_date_week_number  \\\n",
       "9788              January                         1   \n",
       "9805              January                         1   \n",
       "9809              January                         1   \n",
       "9818              January                         1   \n",
       "9838              January                         2   \n",
       "...                   ...                       ...   \n",
       "119385             August                        35   \n",
       "119386             August                        35   \n",
       "119387             August                        35   \n",
       "119388             August                        35   \n",
       "119389             August                        35   \n",
       "\n",
       "        arrival_date_day_of_month  stays_in_weekend_nights  \\\n",
       "9788                            2                        1   \n",
       "9805                            4                        0   \n",
       "9809                            4                        2   \n",
       "9818                            6                        2   \n",
       "9838                           10                        0   \n",
       "...                           ...                      ...   \n",
       "119385                         30                        2   \n",
       "119386                         31                        2   \n",
       "119387                         31                        2   \n",
       "119388                         31                        2   \n",
       "119389                         29                        2   \n",
       "\n",
       "        stays_in_week_nights  adults  ...  booking_changes  deposit_type  \\\n",
       "9788                       3       2  ...                0    No Deposit   \n",
       "9805                       1       1  ...                0    No Deposit   \n",
       "9809                       4       2  ...                0    No Deposit   \n",
       "9818                       3       1  ...                0    No Deposit   \n",
       "9838                       1       2  ...                0    No Deposit   \n",
       "...                      ...     ...  ...              ...           ...   \n",
       "119385                     5       2  ...                0    No Deposit   \n",
       "119386                     5       3  ...                0    No Deposit   \n",
       "119387                     5       2  ...                0    No Deposit   \n",
       "119388                     5       2  ...                0    No Deposit   \n",
       "119389                     7       2  ...                0    No Deposit   \n",
       "\n",
       "             agent days_in_waiting_list customer_type     adr  \\\n",
       "9788    240.000000                    0     Transient   46.80   \n",
       "9805     86.693382                    0     Transient   39.00   \n",
       "9809    240.000000                    0     Transient   52.00   \n",
       "9818    240.000000                    0     Transient   43.00   \n",
       "9838     86.693382                    0     Transient    0.00   \n",
       "...            ...                  ...           ...     ...   \n",
       "119385  394.000000                    0     Transient   96.14   \n",
       "119386    9.000000                    0     Transient  225.43   \n",
       "119387    9.000000                    0     Transient  157.71   \n",
       "119388   89.000000                    0     Transient  104.40   \n",
       "119389    9.000000                    0     Transient  151.20   \n",
       "\n",
       "        required_car_parking_spaces  total_of_special_requests  \\\n",
       "9788                              0                          1   \n",
       "9805                              0                          0   \n",
       "9809                              0                          2   \n",
       "9818                              0                          1   \n",
       "9838                              0                          0   \n",
       "...                             ...                        ...   \n",
       "119385                            0                          0   \n",
       "119386                            0                          2   \n",
       "119387                            0                          4   \n",
       "119388                            0                          0   \n",
       "119389                            0                          2   \n",
       "\n",
       "        reservation_status reservation_status_date  \n",
       "9788               No-Show              2017-01-02  \n",
       "9805              Canceled              2017-01-03  \n",
       "9809               No-Show              2017-01-04  \n",
       "9818               No-Show              2017-01-06  \n",
       "9838              Canceled              2017-01-10  \n",
       "...                    ...                     ...  \n",
       "119385           Check-Out              2017-09-06  \n",
       "119386           Check-Out              2017-09-07  \n",
       "119387           Check-Out              2017-09-07  \n",
       "119388           Check-Out              2017-09-07  \n",
       "119389           Check-Out              2017-09-07  \n",
       "\n",
       "[36334 rows x 31 columns]"
      ],
      "text/html": "<div>\n<style scoped>\n    .dataframe tbody tr th:only-of-type {\n        vertical-align: middle;\n    }\n\n    .dataframe tbody tr th {\n        vertical-align: top;\n    }\n\n    .dataframe thead th {\n        text-align: right;\n    }\n</style>\n<table border=\"1\" class=\"dataframe\">\n  <thead>\n    <tr style=\"text-align: right;\">\n      <th></th>\n      <th>hotel</th>\n      <th>is_canceled</th>\n      <th>lead_time</th>\n      <th>arrival_date_year</th>\n      <th>arrival_date_month</th>\n      <th>arrival_date_week_number</th>\n      <th>arrival_date_day_of_month</th>\n      <th>stays_in_weekend_nights</th>\n      <th>stays_in_week_nights</th>\n      <th>adults</th>\n      <th>...</th>\n      <th>booking_changes</th>\n      <th>deposit_type</th>\n      <th>agent</th>\n      <th>days_in_waiting_list</th>\n      <th>customer_type</th>\n      <th>adr</th>\n      <th>required_car_parking_spaces</th>\n      <th>total_of_special_requests</th>\n      <th>reservation_status</th>\n      <th>reservation_status_date</th>\n    </tr>\n  </thead>\n  <tbody>\n    <tr>\n      <th>9788</th>\n      <td>Resort Hotel</td>\n      <td>1</td>\n      <td>Medium</td>\n      <td>2017</td>\n      <td>January</td>\n      <td>1</td>\n      <td>2</td>\n      <td>1</td>\n      <td>3</td>\n      <td>2</td>\n      <td>...</td>\n      <td>0</td>\n      <td>No Deposit</td>\n      <td>240.000000</td>\n      <td>0</td>\n      <td>Transient</td>\n      <td>46.80</td>\n      <td>0</td>\n      <td>1</td>\n      <td>No-Show</td>\n      <td>2017-01-02</td>\n    </tr>\n    <tr>\n      <th>9805</th>\n      <td>Resort Hotel</td>\n      <td>1</td>\n      <td>Short</td>\n      <td>2017</td>\n      <td>January</td>\n      <td>1</td>\n      <td>4</td>\n      <td>0</td>\n      <td>1</td>\n      <td>1</td>\n      <td>...</td>\n      <td>0</td>\n      <td>No Deposit</td>\n      <td>86.693382</td>\n      <td>0</td>\n      <td>Transient</td>\n      <td>39.00</td>\n      <td>0</td>\n      <td>0</td>\n      <td>Canceled</td>\n      <td>2017-01-03</td>\n    </tr>\n    <tr>\n      <th>9809</th>\n      <td>Resort Hotel</td>\n      <td>1</td>\n      <td>Medium</td>\n      <td>2017</td>\n      <td>January</td>\n      <td>1</td>\n      <td>4</td>\n      <td>2</td>\n      <td>4</td>\n      <td>2</td>\n      <td>...</td>\n      <td>0</td>\n      <td>No Deposit</td>\n      <td>240.000000</td>\n      <td>0</td>\n      <td>Transient</td>\n      <td>52.00</td>\n      <td>0</td>\n      <td>2</td>\n      <td>No-Show</td>\n      <td>2017-01-04</td>\n    </tr>\n    <tr>\n      <th>9818</th>\n      <td>Resort Hotel</td>\n      <td>1</td>\n      <td>Short</td>\n      <td>2017</td>\n      <td>January</td>\n      <td>1</td>\n      <td>6</td>\n      <td>2</td>\n      <td>3</td>\n      <td>1</td>\n      <td>...</td>\n      <td>0</td>\n      <td>No Deposit</td>\n      <td>240.000000</td>\n      <td>0</td>\n      <td>Transient</td>\n      <td>43.00</td>\n      <td>0</td>\n      <td>1</td>\n      <td>No-Show</td>\n      <td>2017-01-06</td>\n    </tr>\n    <tr>\n      <th>9838</th>\n      <td>Resort Hotel</td>\n      <td>1</td>\n      <td>Short</td>\n      <td>2017</td>\n      <td>January</td>\n      <td>2</td>\n      <td>10</td>\n      <td>0</td>\n      <td>1</td>\n      <td>2</td>\n      <td>...</td>\n      <td>0</td>\n      <td>No Deposit</td>\n      <td>86.693382</td>\n      <td>0</td>\n      <td>Transient</td>\n      <td>0.00</td>\n      <td>0</td>\n      <td>0</td>\n      <td>Canceled</td>\n      <td>2017-01-10</td>\n    </tr>\n    <tr>\n      <th>...</th>\n      <td>...</td>\n      <td>...</td>\n      <td>...</td>\n      <td>...</td>\n      <td>...</td>\n      <td>...</td>\n      <td>...</td>\n      <td>...</td>\n      <td>...</td>\n      <td>...</td>\n      <td>...</td>\n      <td>...</td>\n      <td>...</td>\n      <td>...</td>\n      <td>...</td>\n      <td>...</td>\n      <td>...</td>\n      <td>...</td>\n      <td>...</td>\n      <td>...</td>\n      <td>...</td>\n    </tr>\n    <tr>\n      <th>119385</th>\n      <td>City Hotel</td>\n      <td>0</td>\n      <td>Short</td>\n      <td>2017</td>\n      <td>August</td>\n      <td>35</td>\n      <td>30</td>\n      <td>2</td>\n      <td>5</td>\n      <td>2</td>\n      <td>...</td>\n      <td>0</td>\n      <td>No Deposit</td>\n      <td>394.000000</td>\n      <td>0</td>\n      <td>Transient</td>\n      <td>96.14</td>\n      <td>0</td>\n      <td>0</td>\n      <td>Check-Out</td>\n      <td>2017-09-06</td>\n    </tr>\n    <tr>\n      <th>119386</th>\n      <td>City Hotel</td>\n      <td>0</td>\n      <td>Medium</td>\n      <td>2017</td>\n      <td>August</td>\n      <td>35</td>\n      <td>31</td>\n      <td>2</td>\n      <td>5</td>\n      <td>3</td>\n      <td>...</td>\n      <td>0</td>\n      <td>No Deposit</td>\n      <td>9.000000</td>\n      <td>0</td>\n      <td>Transient</td>\n      <td>225.43</td>\n      <td>0</td>\n      <td>2</td>\n      <td>Check-Out</td>\n      <td>2017-09-07</td>\n    </tr>\n    <tr>\n      <th>119387</th>\n      <td>City Hotel</td>\n      <td>0</td>\n      <td>Short</td>\n      <td>2017</td>\n      <td>August</td>\n      <td>35</td>\n      <td>31</td>\n      <td>2</td>\n      <td>5</td>\n      <td>2</td>\n      <td>...</td>\n      <td>0</td>\n      <td>No Deposit</td>\n      <td>9.000000</td>\n      <td>0</td>\n      <td>Transient</td>\n      <td>157.71</td>\n      <td>0</td>\n      <td>4</td>\n      <td>Check-Out</td>\n      <td>2017-09-07</td>\n    </tr>\n    <tr>\n      <th>119388</th>\n      <td>City Hotel</td>\n      <td>0</td>\n      <td>Medium</td>\n      <td>2017</td>\n      <td>August</td>\n      <td>35</td>\n      <td>31</td>\n      <td>2</td>\n      <td>5</td>\n      <td>2</td>\n      <td>...</td>\n      <td>0</td>\n      <td>No Deposit</td>\n      <td>89.000000</td>\n      <td>0</td>\n      <td>Transient</td>\n      <td>104.40</td>\n      <td>0</td>\n      <td>0</td>\n      <td>Check-Out</td>\n      <td>2017-09-07</td>\n    </tr>\n    <tr>\n      <th>119389</th>\n      <td>City Hotel</td>\n      <td>0</td>\n      <td>Long</td>\n      <td>2017</td>\n      <td>August</td>\n      <td>35</td>\n      <td>29</td>\n      <td>2</td>\n      <td>7</td>\n      <td>2</td>\n      <td>...</td>\n      <td>0</td>\n      <td>No Deposit</td>\n      <td>9.000000</td>\n      <td>0</td>\n      <td>Transient</td>\n      <td>151.20</td>\n      <td>0</td>\n      <td>2</td>\n      <td>Check-Out</td>\n      <td>2017-09-07</td>\n    </tr>\n  </tbody>\n</table>\n<p>36334 rows × 31 columns</p>\n</div>"
     },
     "metadata": {},
     "execution_count": 65
    }
   ],
   "source": [
    "data_hotel['reservation_status_date'] = pd.to_datetime(data_hotel['reservation_status_date']) #convert menjadi datetime\n",
    "data_hotel['reservation_status_date'] = data_hotel['reservation_status_date'].loc[data_hotel['reservation_status_date']>datetime.datetime(2017,1,1)] # filter data hanya tahun  2017 keatas\n",
    "data_hotel = data_hotel[data_hotel['reservation_status_date'].notna()] #karena tanggal data tersebut tidak sepenuhnya kehapus(NaT) harus di filter lagi yang ['reservation_status_date'] tidak kosong\n",
    "data_hotel"
   ]
  },
  {
   "source": [
    "## EXPORT DATA\n"
   ],
   "cell_type": "markdown",
   "metadata": {}
  },
  {
   "cell_type": "code",
   "execution_count": 68,
   "metadata": {},
   "outputs": [],
   "source": [
    "data_hotel.to_csv(\"dataset/hotel_clean.csv\", index = False)"
   ]
  }
 ]
}